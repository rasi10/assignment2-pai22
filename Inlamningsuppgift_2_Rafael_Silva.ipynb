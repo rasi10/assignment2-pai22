{
 "cells": [
  {
   "cell_type": "markdown",
   "id": "d9bb2704",
   "metadata": {},
   "source": [
    "# Inlämning 2: Numpy, Pandas och Analys"
   ]
  },
  {
   "cell_type": "markdown",
   "id": "0925e475",
   "metadata": {},
   "source": [
    "### Part 1: Numpy"
   ]
  },
  {
   "cell_type": "code",
   "execution_count": null,
   "id": "3d6e6fd5",
   "metadata": {},
   "outputs": [],
   "source": [
    "import numpy as np\n",
    "np.set_printoptions(precision=4, suppress=True)"
   ]
  },
  {
   "cell_type": "markdown",
   "id": "0750ad1a",
   "metadata": {},
   "source": [
    "Konstruera en array med 10 kolumner och 5 rader av float-tal. Inget tal får vara samma."
   ]
  },
  {
   "cell_type": "code",
   "execution_count": null,
   "id": "b42574f7",
   "metadata": {},
   "outputs": [],
   "source": [
    "first_array = np.random.normal(size=(5, 10))\n",
    "\n",
    "print(first_array)\n",
    "print(first_array.dtype)"
   ]
  },
  {
   "cell_type": "markdown",
   "id": "181fd018",
   "metadata": {},
   "source": [
    "Konstruera en ny array till med 10 kolumner och 7 rader av float-tal. Den skall inte vara samma som ovan array.."
   ]
  },
  {
   "cell_type": "code",
   "execution_count": null,
   "id": "0bed980d",
   "metadata": {},
   "outputs": [],
   "source": [
    "second_array = np.random.randn(7, 10)\n",
    "\n",
    "print(second_array)\n",
    "print(second_array.dtype)"
   ]
  },
  {
   "cell_type": "markdown",
   "id": "04524bf4",
   "metadata": {},
   "source": [
    "Gör om de ovan arrayerna så att de har 5 kolumner men innehåller samma data."
   ]
  },
  {
   "cell_type": "code",
   "execution_count": null,
   "id": "04c745bc",
   "metadata": {},
   "outputs": [],
   "source": [
    "print(first_array)\n",
    "print(second_array)\n",
    "first_array = first_array.reshape(10,5)\n",
    "second_array = second_array.reshape(14,5)\n",
    "\n",
    "print(first_array)\n",
    "print(second_array)\n"
   ]
  },
  {
   "cell_type": "markdown",
   "id": "27063978",
   "metadata": {},
   "source": [
    "Slå ihop de bägge arrayerna till en array."
   ]
  },
  {
   "cell_type": "code",
   "execution_count": null,
   "id": "4361b865",
   "metadata": {},
   "outputs": [],
   "source": [
    "result_array = np.concatenate((first_array, second_array), axis=0)\n",
    "print(result_array)"
   ]
  },
  {
   "cell_type": "markdown",
   "id": "d698b3a8",
   "metadata": {},
   "source": [
    "Ändra ordningen på kolumnerna så att de har ordningen kolumn5, kolumn3, kolumn4, kolumn1 och kolumn2."
   ]
  },
  {
   "cell_type": "code",
   "execution_count": null,
   "id": "7871f863",
   "metadata": {},
   "outputs": [],
   "source": [
    "out = result_array[:, [4, 2, 3, 0, 1]]\n",
    "print(out)"
   ]
  },
  {
   "cell_type": "markdown",
   "id": "031a7184",
   "metadata": {},
   "source": [
    "### Part 2: Pandas"
   ]
  },
  {
   "cell_type": "code",
   "execution_count": null,
   "id": "bc32132a",
   "metadata": {},
   "outputs": [],
   "source": [
    "import pandas as pd"
   ]
  },
  {
   "cell_type": "code",
   "execution_count": null,
   "id": "8cc96bd1",
   "metadata": {},
   "outputs": [],
   "source": [
    "assaults = pd.read_csv('assaults.csv')\n",
    "# print(assaults.describe())"
   ]
  },
  {
   "cell_type": "markdown",
   "id": "bff32115",
   "metadata": {},
   "source": [
    "##### 1 - Hur många regioner finns med i data?"
   ]
  },
  {
   "cell_type": "code",
   "execution_count": null,
   "id": "0e8d3f8c",
   "metadata": {},
   "outputs": [],
   "source": [
    "unique_region_labels = assaults['Region_2013_label'].unique()\n",
    "print(f'The total number of regions is: {len(unique_region_labels)}')"
   ]
  },
  {
   "cell_type": "markdown",
   "id": "c4fd9ff9",
   "metadata": {},
   "source": [
    "##### 2 - Lista regionerna i bokstavsordning"
   ]
  },
  {
   "cell_type": "code",
   "execution_count": null,
   "id": "58151361",
   "metadata": {},
   "outputs": [],
   "source": [
    "region_names = unique_region_labels.tolist()\n",
    "print(sorted(region_names))"
   ]
  },
  {
   "cell_type": "markdown",
   "id": "044f590e",
   "metadata": {},
   "source": [
    "##### 3 - Vad är invånarantalet i varje region"
   ]
  },
  {
   "cell_type": "code",
   "execution_count": null,
   "id": "1af086ff",
   "metadata": {},
   "outputs": [],
   "source": [
    "#assaults.head(20)\n",
    "print('Population in mid point 2015:\\n')\n",
    "series_grouped = assaults.groupby('Region_2013_label')['Population_mid_point_2015'].sum()\n",
    "series_grouped"
   ]
  },
  {
   "cell_type": "markdown",
   "id": "5181a1c6",
   "metadata": {},
   "source": [
    "##### 4 - Hur många brott begicks i varje region"
   ]
  },
  {
   "cell_type": "code",
   "execution_count": null,
   "id": "46c0ee49",
   "metadata": {},
   "outputs": [],
   "source": [
    "# assaults.head(20)\n",
    "print('Total number of victims in 2015:\\n')\n",
    "series_grouped = assaults.groupby('Region_2013_label')['Victimisations_calendar_year_2015'].sum()\n",
    "series_grouped"
   ]
  },
  {
   "cell_type": "markdown",
   "id": "b4245d16",
   "metadata": {},
   "source": [
    "##### 5 - Skapa en dataframe på de områden med de 10 högsta antalet överfall."
   ]
  },
  {
   "cell_type": "code",
   "execution_count": null,
   "id": "1165166c",
   "metadata": {},
   "outputs": [],
   "source": [
    "# assaults.head()\n",
    "series_grouped = assaults.groupby('Area_unit_2013_label')['Victimisations_calendar_year_2015'].sum()\n",
    "df_grouped = series_grouped.to_frame(name='Number_of_attacks').reset_index()\n",
    "df_grouped = df_grouped.sort_values(['Number_of_attacks'], ascending=False).groupby('Area_unit_2013_label').head(10)\n",
    "df_grouped = df_grouped.head(10).reset_index()\n",
    "print(type(df_grouped))\n",
    "df_grouped\n"
   ]
  },
  {
   "cell_type": "markdown",
   "id": "e894eab7",
   "metadata": {},
   "source": [
    "##### 6 - Lägg till en kolumn i dataframen som visar % antal överfall i området jämfört med invånarantal i området"
   ]
  },
  {
   "cell_type": "code",
   "execution_count": null,
   "id": "131f4da1",
   "metadata": {},
   "outputs": [],
   "source": [
    "#assaults.head()\n",
    "def condition(x):\n",
    "    if x['Victimisations_calendar_year_2015'] != 0 and x['Population_mid_point_2015'] !=0:\n",
    "        return x['Victimisations_calendar_year_2015'] / x['Population_mid_point_2015'] * 100   \n",
    "    else:\n",
    "        return 0\n",
    "\n",
    "assaults_copy = assaults\n",
    "assaults_copy['Procent_attacks_by_area'] = assaults_copy.apply(condition, axis=1)\n",
    "assaults_copy.head()"
   ]
  },
  {
   "cell_type": "markdown",
   "id": "0b5dafd0",
   "metadata": {},
   "source": [
    "##### 7 - Skapa en ny dataframe som innehåller antalet områden som finns av de olika typerna av urban area. Ledtråd: groupby"
   ]
  },
  {
   "cell_type": "code",
   "execution_count": null,
   "id": "dd6e8781",
   "metadata": {},
   "outputs": [],
   "source": [
    "# assaults.head()\n",
    "series_grouped = assaults.groupby('Urban_area_type').size()\n",
    "df_grouped = series_grouped.to_frame(name='Number_of_areas').reset_index()\n",
    "print(df_grouped)"
   ]
  },
  {
   "cell_type": "markdown",
   "id": "f3549f9e",
   "metadata": {},
   "source": [
    "##### 8 - Ta reda på hur många områden hade population men inga överfall. Jämför totala populationen i dessa med totala populationen i deras region."
   ]
  },
  {
   "cell_type": "code",
   "execution_count": null,
   "id": "9deddd20",
   "metadata": {},
   "outputs": [],
   "source": [
    "assaults_copy = assaults\n",
    "assaults_copy = assaults_copy[(assaults_copy['Population_mid_point_2015'] > 0)]\n",
    "assaults_copy = assaults_copy[(assaults_copy['Victimisations_calendar_year_2015'] == 0)].reset_index()\n",
    "len(assaults_copy)"
   ]
  },
  {
   "cell_type": "code",
   "execution_count": null,
   "id": "a3bb8d00",
   "metadata": {},
   "outputs": [],
   "source": [
    "assaults_copy = assaults\n",
    "assaults_copy = assaults_copy[(assaults_copy['Population_mid_point_2015'] > 0)]\n",
    "assaults_copy = assaults_copy[(assaults_copy['Victimisations_calendar_year_2015'] == 0)].reset_index()\n",
    "assaults_copy['total_by_region'] = assaults_copy['Population_mid_point_2015'].groupby(assaults_copy['Region_2013_label']).transform('sum')\n",
    "df_population_comparison = assaults_copy[['Area_unit_2013_label','Population_mid_point_2015', 'Region_2013_label', 'total_by_region']]\n",
    "df_population_comparison = df_population_comparison.assign(Procent_region_area=lambda x: x['Population_mid_point_2015'] / x['total_by_region'] * 100)\n",
    "df_population_comparison.head(10)"
   ]
  },
  {
   "cell_type": "markdown",
   "id": "07817c04",
   "metadata": {},
   "source": [
    "##### 9 - Räkna antalet områden som inte har någon data på överfall eller invånare."
   ]
  },
  {
   "cell_type": "code",
   "execution_count": null,
   "id": "c4aa833f",
   "metadata": {},
   "outputs": [],
   "source": [
    "assaults_copy = assaults\n",
    "assaults_copy = assaults_copy[(assaults_copy['Population_mid_point_2015'] == 0) | (['Victimisations_calendar_year_2015'] == 0)]\n",
    "print(f'Antalet områden som inte har någon data på överfall eller invånare: {len(assaults_copy)}')\n"
   ]
  },
  {
   "cell_type": "markdown",
   "id": "2f528d1f",
   "metadata": {},
   "source": [
    "##### 10 - VG: Skapa en ny dataframe med 10 områderna med mer än 5000 invånare, men har de lägsta överfallen per invånare."
   ]
  },
  {
   "cell_type": "code",
   "execution_count": null,
   "id": "73f91244",
   "metadata": {},
   "outputs": [],
   "source": [
    "assaults_copy = assaults\n",
    "assaults_copy = assaults_copy.loc[(assaults_copy['Population_mid_point_2015'] > 5000) & (assaults_copy['Victimisations_calendar_year_2015'] > 0)]\n",
    "assaults_copy = assaults_copy.sort_values(by=assaults_copy.columns[5], ascending=True).head(10)\n",
    "assaults_copy = assaults_copy.iloc[:,1:6]\n",
    "assaults_copy = assaults_copy.reset_index()\n",
    "assaults_copy"
   ]
  },
  {
   "cell_type": "markdown",
   "id": "519ded04",
   "metadata": {},
   "source": [
    "##### 11 - VG: Skapa en ny dataframe som innehåller % överfall i regionen jämfört med antalet invånare i regionen."
   ]
  },
  {
   "cell_type": "code",
   "execution_count": null,
   "id": "00c08032",
   "metadata": {},
   "outputs": [],
   "source": [
    "assaults_copy = assaults\n",
    "series_grouped_attacks = assaults_copy.groupby('Region_2013_label')['Victimisations_calendar_year_2015'].sum()\n",
    "series_grouped_population = assaults_copy.groupby('Region_2013_label')['Population_mid_point_2015'].sum()\n",
    "data_in_dictionary = {'Attacks_by_region': series_grouped_attacks, 'Population_by_region': series_grouped_population }\n",
    "dataframe = pd.DataFrame(data_in_dictionary)\n",
    "dataframe.index.name =''\n",
    "dataframe = dataframe.assign(Procent_attacks_by_region=lambda x: x['Attacks_by_region'] / x['Population_by_region'] * 100)\n",
    "dataframe\n"
   ]
  },
  {
   "cell_type": "markdown",
   "id": "d1e1c383",
   "metadata": {},
   "source": [
    "##### 12 - VG: Lägg till en ny kolumn i dataframen som visar % antal överfall per region"
   ]
  },
  {
   "cell_type": "code",
   "execution_count": null,
   "id": "cd700d91",
   "metadata": {},
   "outputs": [],
   "source": [
    "def condition(x):\n",
    "    series_grouped_attacks = assaults.groupby('Region_2013_label')['Victimisations_calendar_year_2015'].sum()\n",
    "    series_grouped_population = assaults.groupby('Region_2013_label')['Population_mid_point_2015'].sum()\n",
    "        \n",
    "    if x['Region_2013_label'] == 'Area Outside Region':\n",
    "        return series_grouped_attacks[0] / series_grouped_population[0] * 100\n",
    "    elif x['Region_2013_label'] == 'Auckland Region':\n",
    "        return series_grouped_attacks[1] / series_grouped_population[1] * 100\n",
    "    elif x['Region_2013_label'] == 'Bay of Plenty Region':\n",
    "        return series_grouped_attacks[2] / series_grouped_population[2] * 100\n",
    "    elif x['Region_2013_label'] == 'Canterbury Region':\n",
    "        return series_grouped_attacks[3] / series_grouped_population[3] * 100    \n",
    "    elif x['Region_2013_label'] == 'Gisborne Region':\n",
    "        return series_grouped_attacks[4] / series_grouped_population[4] * 100\n",
    "    elif x['Region_2013_label'] == 'Hawke\\'s Bay Region':\n",
    "        return series_grouped_attacks[5] / series_grouped_population[5] * 100\n",
    "    elif x['Region_2013_label'] == 'Manawatu-Wanganui Region':\n",
    "        return series_grouped_attacks[6] / series_grouped_population[6] * 100\n",
    "    elif x['Region_2013_label'] == 'Marlborough Region':\n",
    "        return series_grouped_attacks[7] / series_grouped_population[7] * 100\n",
    "    elif x['Region_2013_label'] == 'Nelson Region':\n",
    "        return series_grouped_attacks[8] / series_grouped_population[8] * 100\n",
    "    elif x['Region_2013_label'] == 'Northland Region':\n",
    "        return series_grouped_attacks[9] / series_grouped_population[9] * 100\n",
    "    elif x['Region_2013_label'] == 'Otago Region':\n",
    "        return series_grouped_attacks[10] / series_grouped_population[10] * 100\n",
    "    elif x['Region_2013_label'] == 'Southland Region':\n",
    "        return series_grouped_attacks[11] / series_grouped_population[11] * 100\n",
    "    elif x['Region_2013_label'] == 'Taranaki Region':\n",
    "        return series_grouped_attacks[12] / series_grouped_population[12] * 100\n",
    "    elif x['Region_2013_label'] == 'Tasman Region':\n",
    "        return series_grouped_attacks[13] / series_grouped_population[13] * 100\n",
    "    elif x['Region_2013_label'] == 'Waikato Region':\n",
    "        return series_grouped_attacks[14] / series_grouped_population[14] * 100\n",
    "    elif x['Region_2013_label'] == 'Wellington Region':\n",
    "        return series_grouped_attacks[15] / series_grouped_population[15] * 100\n",
    "    elif x['Region_2013_label'] == 'West Coast Region':\n",
    "        return series_grouped_attacks[16] / series_grouped_population[16] * 100\n",
    "\n",
    "assaults_copy = assaults\n",
    "assaults_copy = assaults_copy[assaults_copy['Victimisations_calendar_year_2015'] !=0]\n",
    "assaults_copy = assaults_copy[assaults_copy['Population_mid_point_2015'] != 0]\n",
    "assaults_copy['Procent_attacks_by_region'] = assaults_copy.apply(condition, axis=1)\n",
    "assaults_copy.head()"
   ]
  },
  {
   "cell_type": "markdown",
   "id": "7978b987",
   "metadata": {},
   "source": [
    "### Part 3: Utforskning/analys"
   ]
  },
  {
   "cell_type": "markdown",
   "id": "bad825d6",
   "metadata": {},
   "source": [
    "Minst 500 rader, 5 Kolumner i ditt valda dataset"
   ]
  },
  {
   "cell_type": "markdown",
   "id": "0a51462f",
   "metadata": {},
   "source": [
    "#### Step 1: Välj dataset"
   ]
  },
  {
   "cell_type": "markdown",
   "id": "5f81000f",
   "metadata": {},
   "source": [
    "Hitta ett intressant dataset. Det valda datasettet måste vara i CSV format,  ha minst 500 rader och 5 kolumner. \n",
    "Ladda ner datasetet med pandas read_csv funktion och en url (se nedan). Alternativt i inlämningen skicka med datasettet."
   ]
  },
  {
   "cell_type": "markdown",
   "id": "3aefd3e7",
   "metadata": {},
   "source": [
    "Link to the dataset in Kaggle: https://www.kaggle.com/datasets/prosperchuks/health-dataset"
   ]
  },
  {
   "cell_type": "code",
   "execution_count": null,
   "id": "46fad196",
   "metadata": {},
   "outputs": [],
   "source": [
    "import pandas as pd\n",
    "health_dataframe = pd.read_csv('health_data.csv')"
   ]
  },
  {
   "cell_type": "markdown",
   "id": "c23ca94e",
   "metadata": {},
   "source": [
    "#### Step 2: Data preparation och Cleaning"
   ]
  },
  {
   "cell_type": "markdown",
   "id": "6eb2ac97",
   "metadata": {},
   "source": [
    "Ladda in dataset in i en dataframe med pandas. \n",
    "Behandla missade data, icke-korrekt data och fel data.\n",
    "Gör andra steg som behövs (gör om sträng datum till riktiga datum, skapa fler kolumner, slå ihop datasets osv).\n",
    "Summera hur datasetet ser ut i nuvarande läge i dina markdowns. Storlek, kolumner, kategori typer (qualitative vs. quantitative), kvalitet på data, fång osv."
   ]
  },
  {
   "cell_type": "markdown",
   "id": "3cb929e1",
   "metadata": {},
   "source": [
    "Info about the data: There are 18 feature variables and 3 target variables, Diabetes, Hypertension, and Stroke, each target variable having 2 classes."
   ]
  },
  {
   "cell_type": "markdown",
   "id": "305d7e07",
   "metadata": {},
   "source": [
    "Showing the first 5 rows of the dataset:"
   ]
  },
  {
   "cell_type": "code",
   "execution_count": null,
   "id": "f1ff2ff5",
   "metadata": {},
   "outputs": [],
   "source": [
    "health_dataframe.head(5)"
   ]
  },
  {
   "cell_type": "markdown",
   "id": "b33694fb",
   "metadata": {},
   "source": [
    "Exploring the number of dimensions and the datatypes"
   ]
  },
  {
   "cell_type": "code",
   "execution_count": null,
   "id": "a081baae",
   "metadata": {},
   "outputs": [],
   "source": [
    "print(f'ndim: {health_dataframe.ndim}')"
   ]
  },
  {
   "cell_type": "markdown",
   "id": "3ae38852",
   "metadata": {},
   "source": [
    "Analysing some statistics of the data"
   ]
  },
  {
   "cell_type": "code",
   "execution_count": null,
   "id": "c77ccaa8",
   "metadata": {},
   "outputs": [],
   "source": [
    "print(health_dataframe.describe())"
   ]
  },
  {
   "cell_type": "markdown",
   "id": "96f42f69",
   "metadata": {},
   "source": [
    "Checking for null data"
   ]
  },
  {
   "cell_type": "code",
   "execution_count": null,
   "id": "532c0aa9",
   "metadata": {},
   "outputs": [],
   "source": [
    "health_dataframe.isnull().sum()"
   ]
  },
  {
   "cell_type": "markdown",
   "id": "e7273673",
   "metadata": {},
   "source": [
    "Checking for NaN"
   ]
  },
  {
   "cell_type": "code",
   "execution_count": null,
   "id": "240b5910",
   "metadata": {},
   "outputs": [],
   "source": [
    "health_dataframe.isna().sum()"
   ]
  },
  {
   "cell_type": "markdown",
   "id": "66945cb6",
   "metadata": {},
   "source": [
    "Removing duplicates"
   ]
  },
  {
   "cell_type": "code",
   "execution_count": null,
   "id": "829fffa8",
   "metadata": {},
   "outputs": [],
   "source": [
    "health_dataframe.drop_duplicates()"
   ]
  },
  {
   "cell_type": "markdown",
   "id": "1a982d17",
   "metadata": {},
   "source": [
    "Checking the datatypes"
   ]
  },
  {
   "cell_type": "code",
   "execution_count": null,
   "id": "2b46f3f1",
   "metadata": {},
   "outputs": [],
   "source": [
    "health_dataframe.dtypes"
   ]
  },
  {
   "cell_type": "markdown",
   "id": "50f04515",
   "metadata": {},
   "source": [
    "Converting datatypes to int"
   ]
  },
  {
   "cell_type": "code",
   "execution_count": null,
   "id": "5ec24e3a",
   "metadata": {},
   "outputs": [],
   "source": [
    "health_dataframe = health_dataframe.astype(int)\n",
    "health_dataframe.dtypes"
   ]
  },
  {
   "cell_type": "markdown",
   "id": "6e0dfe2c",
   "metadata": {},
   "source": [
    "Checking the unique values on the dataset in order to see if there are missing values or strange values"
   ]
  },
  {
   "cell_type": "code",
   "execution_count": null,
   "id": "19c9b387",
   "metadata": {},
   "outputs": [],
   "source": [
    "print(f'The different age groups: {sorted(health_dataframe[\"Age\"].unique())}')\n",
    "print(f'The different genders: {sorted(health_dataframe[\"Sex\"].unique())}')\n",
    "print(f'The different high cholesterol values: {sorted(health_dataframe[\"HighChol\"].unique())}')\n",
    "print(f'The different cholesterol check in 5 years values: {sorted(health_dataframe[\"CholCheck\"].unique())}')\n",
    "print(f'The different \"is a smoker\" values: {sorted(health_dataframe[\"Smoker\"].unique())}')\n",
    "print(f'The different \"heart condition\" values: {sorted(health_dataframe[\"HeartDiseaseorAttack\"].unique())}')\n",
    "print(f'The different \"practices physcical activity\" groups: {sorted(health_dataframe[\"PhysActivity\"].unique())}')\n",
    "print(f'The different \"Eat fruits once a day\" values: {sorted(health_dataframe[\"Fruits\"].unique())}')\n",
    "print(f'The different \"Eat vegetables once a day\" values: {sorted(health_dataframe[\"Veggies\"].unique())}')\n",
    "print(f'Adult male - more than 14/week drinks & adult female - more than 7 drinks/week: {sorted(health_dataframe[\"HvyAlcoholConsump\"].unique())}')\n",
    "print(f'The \"Good health\" on a scale 1-5: {sorted(health_dataframe[\"GenHlth\"].unique())}')\n",
    "print(f'The \"Days of poor mental healt\" on a scale 1-30: {sorted(health_dataframe[\"MentHlth\"].unique())}')\n",
    "print(f'The \"physical illness or injury days in past 30 days\" scale 1-30: {sorted(health_dataframe[\"PhysHlth\"].unique())}')\n",
    "print(f'The \"Difficult walking\" values: {sorted(health_dataframe[\"DiffWalk\"].unique())}')\n",
    "print(f'Diabetes labels: {sorted(health_dataframe[\"Diabetes\"].unique())}')\n",
    "print(f'Hypertension labels: {sorted(health_dataframe[\"Hypertension\"].unique())}')\n",
    "print(f'Stroke lavels: {sorted(health_dataframe[\"Stroke\"].unique())}')\n"
   ]
  },
  {
   "cell_type": "markdown",
   "id": "ae409b44",
   "metadata": {},
   "source": [
    "#### Step 3: Undersökande analys och visualisering"
   ]
  },
  {
   "cell_type": "markdown",
   "id": "0d010da4",
   "metadata": {},
   "source": [
    "Undersök data genom analysera (mean, sum, range osv)  intressant statistik i numeriska kolumnerna.\n",
    "Undersök distributions av numeriska kolumner genom histogram osv\n",
    "Undersök relationen mellan kolumner med scatter plots, bar chars osv.\n",
    "Notera intressanta upptäckter i din markdown."
   ]
  },
  {
   "cell_type": "code",
   "execution_count": null,
   "id": "3a5721db",
   "metadata": {},
   "outputs": [],
   "source": [
    "import seaborn as sns\n",
    "import matplotlib.pyplot as plt\n",
    "sns.set(style=\"darkgrid\")\n",
    "\n",
    "fig, axs = plt.subplots(2, 2, figsize=(15, 15))\n",
    "sns.histplot(data=health_dataframe, x=\"Age\", hue=\"Sex\", multiple=\"stack\", ax=axs[0, 0])\n",
    "sns.histplot(data=health_dataframe, x=\"HighChol\", hue=\"Sex\", multiple=\"stack\", ax=axs[0, 1])\n",
    "sns.histplot(data=health_dataframe, x=\"Smoker\", hue=\"Sex\", multiple=\"stack\", ax=axs[1, 0])\n",
    "sns.histplot(data=health_dataframe, x=\"HeartDiseaseorAttack\", hue=\"Sex\", multiple=\"stack\", ax=axs[1, 1])\n",
    "\n",
    "plt.show()"
   ]
  },
  {
   "cell_type": "markdown",
   "id": "5e763d47",
   "metadata": {},
   "source": [
    "Checking the correlation in the dataset. "
   ]
  },
  {
   "cell_type": "code",
   "execution_count": null,
   "id": "f52789c0",
   "metadata": {},
   "outputs": [],
   "source": [
    "health_dataframe.corr()"
   ]
  },
  {
   "cell_type": "markdown",
   "id": "c5eab421",
   "metadata": {},
   "source": [
    "Plotting a heatmat of the correlation"
   ]
  },
  {
   "cell_type": "code",
   "execution_count": null,
   "id": "97d4eb98",
   "metadata": {},
   "outputs": [],
   "source": [
    "import numpy as np\n",
    "import pandas as pd\n",
    "import seaborn as sns\n",
    "import matplotlib.pyplot as plt\n",
    "\n",
    "sns.set_theme(style=\"white\")\n",
    "corr = health_dataframe.corr()\n",
    "f, ax = plt.subplots(figsize=(11, 9))\n",
    "cmap = sns.diverging_palette(230, 20, as_cmap=True)\n",
    "sns.heatmap(corr,  cmap=cmap, vmax=.3, center=0, square=True, linewidths=.5, cbar_kws={\"shrink\": .5})"
   ]
  },
  {
   "cell_type": "markdown",
   "id": "db5e7b92",
   "metadata": {},
   "source": [
    "#### Step 4: För VG - fråga och svara på 4 intressanta frågor om datan\n",
    "##### 4.1 - Based on the heatmap plotted above, which were the features more related to the incidence of diabetes?\n",
    "Answer: Age group, High cholesterol values, BMI, General health and Hypertension.\n",
    "##### 4.2 - Based on the heatmap plotted above, which were the features more related to the incidence of Hypertension?\n",
    "Answer: Age group, High cholesterol values, BMI, General health and Diabetes.\n",
    "##### 4.3 - Based on the heatmap plotted above, which were the features more related to the incidence of Stroke?\n",
    "Answer: Heart condition, General Health. Although the correlation was not so high.\n",
    "##### 4.4- What can you conclude about people who did not practice physical activity, based on the heatmap above?\n",
    "Answer: The physical activity feature is inversely proportional to general health, difficuly walking and \"physical illness or injury days in the past 30 days\". It means that when one of the features increases, the other decreases. E.g. The more the difficulty walking, the less the physical activity. "
   ]
  },
  {
   "cell_type": "markdown",
   "id": "b1dadef7",
   "metadata": {},
   "source": [
    "#### Step 5: Summera dina slutsatser & Skriv ett avslut."
   ]
  },
  {
   "cell_type": "markdown",
   "id": "a0114179",
   "metadata": {},
   "source": [
    "Diabetes, hypertension, and stroke are three health conditions that are closely related and can have serious consequences if left untreated. The data shows that there is factors such as Age group, High Cholesterol, BMI, General Health and Heart conditions can straightly be related to the development of these conditions. "
   ]
  }
 ],
 "metadata": {
  "kernelspec": {
   "display_name": "Python 3.10.6 64-bit",
   "language": "python",
   "name": "python3"
  },
  "language_info": {
   "codemirror_mode": {
    "name": "ipython",
    "version": 3
   },
   "file_extension": ".py",
   "mimetype": "text/x-python",
   "name": "python",
   "nbconvert_exporter": "python",
   "pygments_lexer": "ipython3",
   "version": "3.9.13"
  },
  "vscode": {
   "interpreter": {
    "hash": "916dbcbb3f70747c44a77c7bcd40155683ae19c65e1c03b4aa3499c5328201f1"
   }
  }
 },
 "nbformat": 4,
 "nbformat_minor": 5
}
