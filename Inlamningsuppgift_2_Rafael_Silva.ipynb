{
 "cells": [
  {
   "cell_type": "markdown",
   "id": "d9bb2704",
   "metadata": {},
   "source": [
    "# Inlämning 2: Numpy, Pandas och Analys"
   ]
  },
  {
   "cell_type": "markdown",
   "id": "0925e475",
   "metadata": {},
   "source": [
    "### Part 1: Numpy"
   ]
  },
  {
   "cell_type": "code",
   "execution_count": 58,
   "id": "3d6e6fd5",
   "metadata": {},
   "outputs": [],
   "source": [
    "import numpy as np\n",
    "np.set_printoptions(precision=4, suppress=True)"
   ]
  },
  {
   "cell_type": "markdown",
   "id": "0750ad1a",
   "metadata": {},
   "source": [
    "Konstruera en array med 10 kolumner och 5 rader av float-tal. Inget tal får vara samma."
   ]
  },
  {
   "cell_type": "code",
   "execution_count": 59,
   "id": "b42574f7",
   "metadata": {},
   "outputs": [
    {
     "name": "stdout",
     "output_type": "stream",
     "text": [
      "[[ 0.2004  0.3792 -0.2991 -0.0901 -0.3394  0.9801  1.1839  1.7965 -0.8004\n",
      "   1.3517]\n",
      " [-0.2803 -0.3905 -0.5215 -1.2604 -0.335  -0.5635  0.2269  0.6965  1.234\n",
      "  -0.744 ]\n",
      " [-0.8109  1.2697  1.2695  0.2824  0.0817  0.2562  1.8228 -1.6514  0.1509\n",
      "   1.3502]\n",
      " [-0.6752 -0.9946 -0.7484  0.3691 -0.463  -0.2538  0.2374 -0.0103 -1.0221\n",
      "  -1.5344]\n",
      " [-1.857   0.0333  0.6021 -0.1451 -0.8264 -0.2209  0.4874 -0.9447  0.3795\n",
      "   0.4847]]\n",
      "float64\n"
     ]
    }
   ],
   "source": [
    "first_array = np.random.normal(size=(5, 10))\n",
    "\n",
    "print(first_array)\n",
    "print(first_array.dtype)"
   ]
  },
  {
   "cell_type": "markdown",
   "id": "181fd018",
   "metadata": {},
   "source": [
    "Konstruera en ny array till med 10 kolumner och 7 rader av float-tal. Den skall inte vara samma som ovan array.."
   ]
  },
  {
   "cell_type": "code",
   "execution_count": 60,
   "id": "0bed980d",
   "metadata": {},
   "outputs": [
    {
     "name": "stdout",
     "output_type": "stream",
     "text": [
      "[[ 0.0987  0.117   0.7459 -0.4757 -0.3724  1.443  -0.2227 -0.2115  1.1951\n",
      "   0.5714]\n",
      " [-1.5552  2.4857 -0.5007 -0.1827  1.1892 -1.9456 -0.0677  0.0073 -1.8092\n",
      "   0.7969]\n",
      " [ 0.5973  0.1815 -1.3081  1.5832 -0.5332 -1.7148  0.093  -1.3157  0.8639\n",
      "  -2.8983]\n",
      " [ 0.5053 -0.4635 -1.1004 -0.3948  0.4583 -0.7882  0.9655 -0.2435  1.422\n",
      "   1.7298]\n",
      " [ 0.2297 -0.5798  0.2013 -1.2109  1.6462  0.5107  1.4193 -0.6578 -1.1152\n",
      "  -0.4024]\n",
      " [ 0.5856  0.7248  0.3127  1.1788  2.0662  0.9173 -1.8568 -0.1838 -1.3244\n",
      "  -0.3488]\n",
      " [ 0.0627  2.4953  0.7273  0.3083  0.0611  1.9226  0.3102 -0.4033 -0.0897\n",
      "  -0.1794]]\n",
      "float64\n"
     ]
    }
   ],
   "source": [
    "second_array = np.random.randn(7, 10)\n",
    "\n",
    "print(second_array)\n",
    "print(second_array.dtype)"
   ]
  },
  {
   "cell_type": "markdown",
   "id": "04524bf4",
   "metadata": {},
   "source": [
    "Gör om de ovan arrayerna så att de har 5 kolumner men innehåller samma data."
   ]
  },
  {
   "cell_type": "code",
   "execution_count": 61,
   "id": "04c745bc",
   "metadata": {},
   "outputs": [
    {
     "name": "stdout",
     "output_type": "stream",
     "text": [
      "[[ 0.2004  0.3792 -0.2991 -0.0901 -0.3394  0.9801  1.1839  1.7965 -0.8004\n",
      "   1.3517]\n",
      " [-0.2803 -0.3905 -0.5215 -1.2604 -0.335  -0.5635  0.2269  0.6965  1.234\n",
      "  -0.744 ]\n",
      " [-0.8109  1.2697  1.2695  0.2824  0.0817  0.2562  1.8228 -1.6514  0.1509\n",
      "   1.3502]\n",
      " [-0.6752 -0.9946 -0.7484  0.3691 -0.463  -0.2538  0.2374 -0.0103 -1.0221\n",
      "  -1.5344]\n",
      " [-1.857   0.0333  0.6021 -0.1451 -0.8264 -0.2209  0.4874 -0.9447  0.3795\n",
      "   0.4847]]\n",
      "[[ 0.0987  0.117   0.7459 -0.4757 -0.3724  1.443  -0.2227 -0.2115  1.1951\n",
      "   0.5714]\n",
      " [-1.5552  2.4857 -0.5007 -0.1827  1.1892 -1.9456 -0.0677  0.0073 -1.8092\n",
      "   0.7969]\n",
      " [ 0.5973  0.1815 -1.3081  1.5832 -0.5332 -1.7148  0.093  -1.3157  0.8639\n",
      "  -2.8983]\n",
      " [ 0.5053 -0.4635 -1.1004 -0.3948  0.4583 -0.7882  0.9655 -0.2435  1.422\n",
      "   1.7298]\n",
      " [ 0.2297 -0.5798  0.2013 -1.2109  1.6462  0.5107  1.4193 -0.6578 -1.1152\n",
      "  -0.4024]\n",
      " [ 0.5856  0.7248  0.3127  1.1788  2.0662  0.9173 -1.8568 -0.1838 -1.3244\n",
      "  -0.3488]\n",
      " [ 0.0627  2.4953  0.7273  0.3083  0.0611  1.9226  0.3102 -0.4033 -0.0897\n",
      "  -0.1794]]\n",
      "[[ 0.2004  0.3792 -0.2991 -0.0901 -0.3394]\n",
      " [-0.2803 -0.3905 -0.5215 -1.2604 -0.335 ]\n",
      " [-0.8109  1.2697  1.2695  0.2824  0.0817]\n",
      " [-0.6752 -0.9946 -0.7484  0.3691 -0.463 ]\n",
      " [-1.857   0.0333  0.6021 -0.1451 -0.8264]]\n",
      "[[ 0.0987  0.117   0.7459 -0.4757 -0.3724]\n",
      " [-1.5552  2.4857 -0.5007 -0.1827  1.1892]\n",
      " [ 0.5973  0.1815 -1.3081  1.5832 -0.5332]\n",
      " [ 0.5053 -0.4635 -1.1004 -0.3948  0.4583]\n",
      " [ 0.2297 -0.5798  0.2013 -1.2109  1.6462]\n",
      " [ 0.5856  0.7248  0.3127  1.1788  2.0662]\n",
      " [ 0.0627  2.4953  0.7273  0.3083  0.0611]]\n"
     ]
    }
   ],
   "source": [
    "print(first_array)\n",
    "print(second_array)\n",
    "first_array = np.delete(first_array, slice(5, 10), axis=1)\n",
    "second_array = np.delete(second_array, slice(5, 10), axis=1)\n",
    "print(first_array)\n",
    "print(second_array)"
   ]
  },
  {
   "cell_type": "markdown",
   "id": "27063978",
   "metadata": {},
   "source": [
    "Slå ihop de bägge arrayerna till en array."
   ]
  },
  {
   "cell_type": "code",
   "execution_count": 62,
   "id": "4361b865",
   "metadata": {},
   "outputs": [
    {
     "name": "stdout",
     "output_type": "stream",
     "text": [
      "[[ 0.2004  0.3792 -0.2991 -0.0901 -0.3394]\n",
      " [-0.2803 -0.3905 -0.5215 -1.2604 -0.335 ]\n",
      " [-0.8109  1.2697  1.2695  0.2824  0.0817]\n",
      " [-0.6752 -0.9946 -0.7484  0.3691 -0.463 ]\n",
      " [-1.857   0.0333  0.6021 -0.1451 -0.8264]\n",
      " [ 0.0987  0.117   0.7459 -0.4757 -0.3724]\n",
      " [-1.5552  2.4857 -0.5007 -0.1827  1.1892]\n",
      " [ 0.5973  0.1815 -1.3081  1.5832 -0.5332]\n",
      " [ 0.5053 -0.4635 -1.1004 -0.3948  0.4583]\n",
      " [ 0.2297 -0.5798  0.2013 -1.2109  1.6462]\n",
      " [ 0.5856  0.7248  0.3127  1.1788  2.0662]\n",
      " [ 0.0627  2.4953  0.7273  0.3083  0.0611]]\n"
     ]
    }
   ],
   "source": [
    "result_array = np.concatenate((first_array, second_array), axis=0)\n",
    "print(result_array)"
   ]
  },
  {
   "cell_type": "markdown",
   "id": "d698b3a8",
   "metadata": {},
   "source": [
    "Ändra ordningen på kolumnerna så att de har ordningen kolumn5, kolumn3, kolumn4, kolumn1 och kolumn2."
   ]
  },
  {
   "cell_type": "code",
   "execution_count": 63,
   "id": "7871f863",
   "metadata": {},
   "outputs": [
    {
     "name": "stdout",
     "output_type": "stream",
     "text": [
      "[[-0.3394 -0.2991 -0.0901  0.2004  0.3792]\n",
      " [-0.335  -0.5215 -1.2604 -0.2803 -0.3905]\n",
      " [ 0.0817  1.2695  0.2824 -0.8109  1.2697]\n",
      " [-0.463  -0.7484  0.3691 -0.6752 -0.9946]\n",
      " [-0.8264  0.6021 -0.1451 -1.857   0.0333]\n",
      " [-0.3724  0.7459 -0.4757  0.0987  0.117 ]\n",
      " [ 1.1892 -0.5007 -0.1827 -1.5552  2.4857]\n",
      " [-0.5332 -1.3081  1.5832  0.5973  0.1815]\n",
      " [ 0.4583 -1.1004 -0.3948  0.5053 -0.4635]\n",
      " [ 1.6462  0.2013 -1.2109  0.2297 -0.5798]\n",
      " [ 2.0662  0.3127  1.1788  0.5856  0.7248]\n",
      " [ 0.0611  0.7273  0.3083  0.0627  2.4953]]\n"
     ]
    }
   ],
   "source": [
    "out = result_array[:, [4, 2, 3, 0, 1]]\n",
    "print(out)"
   ]
  },
  {
   "cell_type": "markdown",
   "id": "031a7184",
   "metadata": {},
   "source": [
    "### Part 2: Pandas"
   ]
  },
  {
   "cell_type": "code",
   "execution_count": 64,
   "id": "bc32132a",
   "metadata": {},
   "outputs": [],
   "source": [
    "import pandas as pd"
   ]
  },
  {
   "cell_type": "code",
   "execution_count": 65,
   "id": "8cc96bd1",
   "metadata": {},
   "outputs": [],
   "source": [
    "assults = pd.read_csv('assults.csv')\n",
    "# print(assults.describe())"
   ]
  },
  {
   "cell_type": "markdown",
   "id": "bff32115",
   "metadata": {},
   "source": [
    "##### 1 - Hur många regioner finns med i data?"
   ]
  },
  {
   "cell_type": "code",
   "execution_count": 66,
   "id": "0e8d3f8c",
   "metadata": {},
   "outputs": [
    {
     "name": "stdout",
     "output_type": "stream",
     "text": [
      "The total number of regions is: 17\n"
     ]
    }
   ],
   "source": [
    "# print(assults.columns)\n",
    "unique_region_labels = assults['Region_2013_label'].unique()\n",
    "# print(unique_region_labels)\n",
    "print(f'The total number of regions is: {len(unique_region_labels)}')"
   ]
  },
  {
   "cell_type": "markdown",
   "id": "c4fd9ff9",
   "metadata": {},
   "source": [
    "##### 2 - Lista regionerna i bokstavsordning"
   ]
  },
  {
   "cell_type": "code",
   "execution_count": 67,
   "id": "58151361",
   "metadata": {},
   "outputs": [
    {
     "name": "stdout",
     "output_type": "stream",
     "text": [
      "['Area Outside Region', 'Auckland Region', 'Bay of Plenty Region', 'Canterbury Region', 'Gisborne Region', \"Hawke's Bay Region\", 'Manawatu-Wanganui Region', 'Marlborough Region', 'Nelson Region', 'Northland Region', 'Otago Region', 'Southland Region', 'Taranaki Region', 'Tasman Region', 'Waikato Region', 'Wellington Region', 'West Coast Region']\n"
     ]
    }
   ],
   "source": [
    "region_names = unique_region_labels.tolist()\n",
    "print(sorted(region_names))"
   ]
  },
  {
   "cell_type": "markdown",
   "id": "044f590e",
   "metadata": {},
   "source": [
    "##### 3 - Vad är invånarantalet i varje region"
   ]
  },
  {
   "cell_type": "code",
   "execution_count": 68,
   "id": "1af086ff",
   "metadata": {},
   "outputs": [
    {
     "name": "stdout",
     "output_type": "stream",
     "text": [
      "Population in mid point 2015:\n",
      "\n"
     ]
    },
    {
     "data": {
      "text/plain": [
       "Region_2013_label\n",
       "Area Outside Region             610\n",
       "Auckland Region             1569890\n",
       "Bay of Plenty Region         287130\n",
       "Canterbury Region            586310\n",
       "Gisborne Region               47370\n",
       "Hawke's Bay Region           160010\n",
       "Manawatu-Wanganui Region     234460\n",
       "Marlborough Region            45340\n",
       "Nelson Region                 49940\n",
       "Northland Region             168320\n",
       "Otago Region                 215030\n",
       "Southland Region              97190\n",
       "Taranaki Region              115760\n",
       "Tasman Region                 49500\n",
       "Waikato Region               439000\n",
       "Wellington Region            496890\n",
       "West Coast Region             32700\n",
       "Name: Population_mid_point_2015, dtype: int64"
      ]
     },
     "execution_count": 68,
     "metadata": {},
     "output_type": "execute_result"
    }
   ],
   "source": [
    "#assults.head(20)\n",
    "print('Population in mid point 2015:\\n')\n",
    "series_grouped = assults.groupby('Region_2013_label')['Population_mid_point_2015'].sum()\n",
    "series_grouped"
   ]
  },
  {
   "cell_type": "markdown",
   "id": "5181a1c6",
   "metadata": {},
   "source": [
    "##### 4 - Hur många brott begicks i varje region"
   ]
  },
  {
   "cell_type": "code",
   "execution_count": 69,
   "id": "46c0ee49",
   "metadata": {},
   "outputs": [
    {
     "name": "stdout",
     "output_type": "stream",
     "text": [
      "Total number of victims in 2015:\n",
      "\n"
     ]
    },
    {
     "data": {
      "text/plain": [
       "Region_2013_label\n",
       "Area Outside Region            0\n",
       "Auckland Region             8010\n",
       "Bay of Plenty Region        1751\n",
       "Canterbury Region           2942\n",
       "Gisborne Region              436\n",
       "Hawke's Bay Region          1068\n",
       "Manawatu-Wanganui Region    1270\n",
       "Marlborough Region           209\n",
       "Nelson Region                357\n",
       "Northland Region             905\n",
       "Otago Region                1142\n",
       "Southland Region             381\n",
       "Taranaki Region              493\n",
       "Tasman Region                161\n",
       "Waikato Region              2330\n",
       "Wellington Region           2459\n",
       "West Coast Region            121\n",
       "Name: Victimisations_calendar_year_2015, dtype: int64"
      ]
     },
     "execution_count": 69,
     "metadata": {},
     "output_type": "execute_result"
    }
   ],
   "source": [
    "# assults.head(20)\n",
    "print('Total number of victims in 2015:\\n')\n",
    "series_grouped = assults.groupby('Region_2013_label')['Victimisations_calendar_year_2015'].sum()\n",
    "series_grouped"
   ]
  },
  {
   "cell_type": "markdown",
   "id": "b4245d16",
   "metadata": {},
   "source": [
    "##### 5 - Skapa en dataframe på de områden med de 10 högsta antalet överfall."
   ]
  },
  {
   "cell_type": "code",
   "execution_count": 74,
   "id": "1165166c",
   "metadata": {},
   "outputs": [
    {
     "data": {
      "text/html": [
       "<div>\n",
       "<style scoped>\n",
       "    .dataframe tbody tr th:only-of-type {\n",
       "        vertical-align: middle;\n",
       "    }\n",
       "\n",
       "    .dataframe tbody tr th {\n",
       "        vertical-align: top;\n",
       "    }\n",
       "\n",
       "    .dataframe thead th {\n",
       "        text-align: right;\n",
       "    }\n",
       "</style>\n",
       "<table border=\"1\" class=\"dataframe\">\n",
       "  <thead>\n",
       "    <tr style=\"text-align: right;\">\n",
       "      <th></th>\n",
       "      <th>index</th>\n",
       "      <th>Urban_area_2013_label</th>\n",
       "      <th>Number_of_attacks</th>\n",
       "    </tr>\n",
       "  </thead>\n",
       "  <tbody>\n",
       "    <tr>\n",
       "      <th>0</th>\n",
       "      <td>11</td>\n",
       "      <td>Central Auckland Zone</td>\n",
       "      <td>3286</td>\n",
       "    </tr>\n",
       "    <tr>\n",
       "      <th>1</th>\n",
       "      <td>102</td>\n",
       "      <td>Southern Auckland Zone</td>\n",
       "      <td>2770</td>\n",
       "    </tr>\n",
       "    <tr>\n",
       "      <th>2</th>\n",
       "      <td>12</td>\n",
       "      <td>Christchurch</td>\n",
       "      <td>2348</td>\n",
       "    </tr>\n",
       "    <tr>\n",
       "      <th>3</th>\n",
       "      <td>29</td>\n",
       "      <td>Hamilton Zone</td>\n",
       "      <td>1196</td>\n",
       "    </tr>\n",
       "    <tr>\n",
       "      <th>4</th>\n",
       "      <td>98</td>\n",
       "      <td>Rural (Incl.some Off Shore Islands)</td>\n",
       "      <td>1056</td>\n",
       "    </tr>\n",
       "    <tr>\n",
       "      <th>5</th>\n",
       "      <td>139</td>\n",
       "      <td>Wellington Zone</td>\n",
       "      <td>1019</td>\n",
       "    </tr>\n",
       "    <tr>\n",
       "      <th>6</th>\n",
       "      <td>141</td>\n",
       "      <td>Western Auckland Zone</td>\n",
       "      <td>900</td>\n",
       "    </tr>\n",
       "    <tr>\n",
       "      <th>7</th>\n",
       "      <td>110</td>\n",
       "      <td>Tauranga</td>\n",
       "      <td>693</td>\n",
       "    </tr>\n",
       "    <tr>\n",
       "      <th>8</th>\n",
       "      <td>18</td>\n",
       "      <td>Dunedin</td>\n",
       "      <td>657</td>\n",
       "    </tr>\n",
       "    <tr>\n",
       "      <th>9</th>\n",
       "      <td>69</td>\n",
       "      <td>Northern Auckland Zone</td>\n",
       "      <td>635</td>\n",
       "    </tr>\n",
       "  </tbody>\n",
       "</table>\n",
       "</div>"
      ],
      "text/plain": [
       "   index                Urban_area_2013_label  Number_of_attacks\n",
       "0     11                Central Auckland Zone               3286\n",
       "1    102               Southern Auckland Zone               2770\n",
       "2     12                         Christchurch               2348\n",
       "3     29                        Hamilton Zone               1196\n",
       "4     98  Rural (Incl.some Off Shore Islands)               1056\n",
       "5    139                      Wellington Zone               1019\n",
       "6    141                Western Auckland Zone                900\n",
       "7    110                             Tauranga                693\n",
       "8     18                              Dunedin                657\n",
       "9     69               Northern Auckland Zone                635"
      ]
     },
     "execution_count": 74,
     "metadata": {},
     "output_type": "execute_result"
    }
   ],
   "source": [
    "# assults.head()\n",
    "series_grouped = assults.groupby('Urban_area_2013_label')['Victimisations_calendar_year_2015'].sum()\n",
    "df_grouped = series_grouped.to_frame(name='Number_of_attacks').reset_index()\n",
    "df_grouped = df_grouped.sort_values(['Number_of_attacks'], ascending=False).groupby('Urban_area_2013_label').head(10).reset_index()\n",
    "df_grouped = df_grouped.head(10)\n",
    "df_grouped\n"
   ]
  },
  {
   "cell_type": "markdown",
   "id": "e894eab7",
   "metadata": {},
   "source": [
    "##### 6 - Lägg till en kolumn i dataframen som visar % antal överfall i området jämfört med invånarantal i området"
   ]
  },
  {
   "cell_type": "markdown",
   "id": "0b5dafd0",
   "metadata": {},
   "source": [
    "##### 7 - Skapa en ny dataframe som innehåller antalet områden som finns av de olika typerna av urban area. Ledtråd: groupby"
   ]
  },
  {
   "cell_type": "code",
   "execution_count": 71,
   "id": "dd6e8781",
   "metadata": {},
   "outputs": [
    {
     "name": "stdout",
     "output_type": "stream",
     "text": [
      "        Urban_area_type  Number_of_areas\n",
      "0       Main urban area             1112\n",
      "1      Minor urban area              137\n",
      "2            Rural area              640\n",
      "3  Secondary urban area              131\n"
     ]
    }
   ],
   "source": [
    "# assults.head()\n",
    "series_grouped = assults.groupby('Urban_area_type').size()\n",
    "df_grouped = series_grouped.to_frame(name='Number_of_areas').reset_index()\n",
    "print(df_grouped)"
   ]
  },
  {
   "cell_type": "markdown",
   "id": "f3549f9e",
   "metadata": {},
   "source": [
    "##### 8 - Ta reda på hur många områden hade population men inga överfall. Jämfört totala populationen i dessa med totala poplulationen i deras region."
   ]
  },
  {
   "cell_type": "markdown",
   "id": "07817c04",
   "metadata": {},
   "source": [
    "##### 9 - Räkna antalet områden som inte har någon data på överfall eller invånare."
   ]
  },
  {
   "cell_type": "markdown",
   "id": "2f528d1f",
   "metadata": {},
   "source": [
    "##### 10 - VG: Skapa en ny dataframe med 10 områderna med mer än 5000 invånare, men har de lägsta överfallen per invånare."
   ]
  },
  {
   "cell_type": "markdown",
   "id": "519ded04",
   "metadata": {},
   "source": [
    "##### 11 - VG: Skapa en ny dataframe som innehåller % överfall i regionen jämfört med antalet invånare i regionen."
   ]
  },
  {
   "cell_type": "markdown",
   "id": "d1e1c383",
   "metadata": {},
   "source": [
    "##### 12 - VG: Lägg till en ny kolumn i dataframen som visar % antal överfall per region"
   ]
  },
  {
   "cell_type": "markdown",
   "id": "7978b987",
   "metadata": {},
   "source": [
    "### Part 3: Utforskning/analys"
   ]
  },
  {
   "cell_type": "markdown",
   "id": "bad825d6",
   "metadata": {},
   "source": [
    "Minst 500 rader, 5 Kolumner i ditt valda dataset"
   ]
  },
  {
   "cell_type": "markdown",
   "id": "0a51462f",
   "metadata": {},
   "source": [
    "#### Step 1: Välj dataset"
   ]
  },
  {
   "cell_type": "markdown",
   "id": "5f81000f",
   "metadata": {},
   "source": [
    "Hitta ett intressant dataset. Det valda datasettet måste vara i CSV format,  ha minst 500 rader och 5 kolumner. \n",
    "Ladda ner datasetet med pandas read_csv funktion och en url (se nedan). Alternativt i inlämningen skicka med datasettet."
   ]
  },
  {
   "cell_type": "code",
   "execution_count": 72,
   "id": "46fad196",
   "metadata": {},
   "outputs": [],
   "source": [
    "url = 'https://raw.githubusercontent.com/cs109/2014_data/master/countries.csv'\n",
    "data = pd.read_csv(url)"
   ]
  },
  {
   "cell_type": "markdown",
   "id": "c23ca94e",
   "metadata": {},
   "source": [
    "#### Step 2: Data preparation och Cleaning"
   ]
  },
  {
   "cell_type": "markdown",
   "id": "6eb2ac97",
   "metadata": {},
   "source": [
    "Ladda in dataset in i en dataframe med pandas. \n",
    "Behandla missade data, icke-korrekt data och fel data.\n",
    "Gör andra steg som behövs (gör om sträng datum till riktiga datum, skapa fler kolumner, slå ihop datasets osv).\n",
    "Summera hur datasetet ser ut i nuvarande läge i dina markdowns. Storlek, kolumner, kategori typer (qualitative vs. quantitative), kvalitet på data, fång osv."
   ]
  },
  {
   "cell_type": "code",
   "execution_count": null,
   "id": "240b5910",
   "metadata": {},
   "outputs": [],
   "source": []
  },
  {
   "cell_type": "markdown",
   "id": "ae409b44",
   "metadata": {},
   "source": [
    "#### Step 3: Undersökande analys och visualisering"
   ]
  },
  {
   "cell_type": "markdown",
   "id": "0d010da4",
   "metadata": {},
   "source": [
    "Undersök data genom analysera (mean, sum, range osv)  intressant statistik i numeriska kolumnerna.\n",
    "Undersök distributions av numeriska kolumner genom histogram osv\n",
    "Undersök relationen mellan kolumner med scatter plots, bar chars osv.\n",
    "Notera intressanta upptäckter i din markdown."
   ]
  },
  {
   "cell_type": "code",
   "execution_count": null,
   "id": "f52789c0",
   "metadata": {},
   "outputs": [],
   "source": []
  },
  {
   "cell_type": "markdown",
   "id": "db5e7b92",
   "metadata": {},
   "source": [
    "#### Step 4: För VG - fråga och svara på 4 intressanta frågor om datan"
   ]
  },
  {
   "cell_type": "code",
   "execution_count": null,
   "id": "561e8f3e",
   "metadata": {},
   "outputs": [],
   "source": []
  },
  {
   "cell_type": "markdown",
   "id": "b1dadef7",
   "metadata": {},
   "source": [
    "#### Step 5: Summera dina slutsatser & Skriv ett avslut."
   ]
  },
  {
   "cell_type": "code",
   "execution_count": null,
   "id": "ad3521ff",
   "metadata": {},
   "outputs": [],
   "source": []
  }
 ],
 "metadata": {
  "kernelspec": {
   "display_name": "Python 3.10.6 64-bit",
   "language": "python",
   "name": "python3"
  },
  "language_info": {
   "codemirror_mode": {
    "name": "ipython",
    "version": 3
   },
   "file_extension": ".py",
   "mimetype": "text/x-python",
   "name": "python",
   "nbconvert_exporter": "python",
   "pygments_lexer": "ipython3",
   "version": "3.9.13"
  },
  "vscode": {
   "interpreter": {
    "hash": "916dbcbb3f70747c44a77c7bcd40155683ae19c65e1c03b4aa3499c5328201f1"
   }
  }
 },
 "nbformat": 4,
 "nbformat_minor": 5
}
