{
 "cells": [
  {
   "cell_type": "markdown",
   "id": "d9bb2704",
   "metadata": {},
   "source": [
    "# Inlämning 2: Numpy, Pandas och Analys"
   ]
  },
  {
   "cell_type": "markdown",
   "id": "0925e475",
   "metadata": {},
   "source": [
    "### Part 1: Numpy"
   ]
  },
  {
   "cell_type": "code",
   "execution_count": null,
   "id": "3d6e6fd5",
   "metadata": {},
   "outputs": [],
   "source": [
    "import numpy as np\n",
    "np.set_printoptions(precision=4, suppress=True)"
   ]
  },
  {
   "cell_type": "markdown",
   "id": "0750ad1a",
   "metadata": {},
   "source": [
    "Konstruera en array med 10 kolumner och 5 rader av float-tal. Inget tal får vara samma."
   ]
  },
  {
   "cell_type": "code",
   "execution_count": null,
   "id": "b42574f7",
   "metadata": {},
   "outputs": [],
   "source": [
    "first_array = np.random.normal(size=(5, 10))\n",
    "\n",
    "print(first_array)\n",
    "print(first_array.dtype)"
   ]
  },
  {
   "cell_type": "markdown",
   "id": "181fd018",
   "metadata": {},
   "source": [
    "Konstruera en ny array till med 10 kolumner och 7 rader av float-tal. Den skall inte vara samma som ovan array.."
   ]
  },
  {
   "cell_type": "code",
   "execution_count": null,
   "id": "0bed980d",
   "metadata": {},
   "outputs": [],
   "source": [
    "second_array = np.random.randn(7, 10)\n",
    "\n",
    "print(second_array)\n",
    "print(second_array.dtype)"
   ]
  },
  {
   "cell_type": "markdown",
   "id": "04524bf4",
   "metadata": {},
   "source": [
    "Gör om de ovan arrayerna så att de har 5 kolumner men innehåller samma data."
   ]
  },
  {
   "cell_type": "code",
   "execution_count": null,
   "id": "04c745bc",
   "metadata": {},
   "outputs": [],
   "source": [
    "print(first_array)\n",
    "print(second_array)\n",
    "first_array = np.delete(first_array, slice(5, 10), axis=1)\n",
    "second_array = np.delete(second_array, slice(5, 10), axis=1)\n",
    "print(first_array)\n",
    "print(second_array)"
   ]
  },
  {
   "cell_type": "markdown",
   "id": "27063978",
   "metadata": {},
   "source": [
    "Slå ihop de bägge arrayerna till en array."
   ]
  },
  {
   "cell_type": "code",
   "execution_count": null,
   "id": "4361b865",
   "metadata": {},
   "outputs": [],
   "source": [
    "result_array = np.concatenate((first_array, second_array), axis=0)\n",
    "print(result_array)"
   ]
  },
  {
   "cell_type": "markdown",
   "id": "d698b3a8",
   "metadata": {},
   "source": [
    "Ändra ordningen på kolumnerna så att de har ordningen kolumn5, kolumn3, kolumn4, kolumn1 och kolumn2."
   ]
  },
  {
   "cell_type": "code",
   "execution_count": null,
   "id": "7871f863",
   "metadata": {},
   "outputs": [],
   "source": [
    "out = result_array[:, [4, 2, 3, 0, 1]]\n",
    "print(out)"
   ]
  },
  {
   "cell_type": "markdown",
   "id": "031a7184",
   "metadata": {},
   "source": [
    "### Part 2: Pandas"
   ]
  },
  {
   "cell_type": "code",
   "execution_count": null,
   "id": "bc32132a",
   "metadata": {},
   "outputs": [],
   "source": [
    "import pandas as pd"
   ]
  },
  {
   "cell_type": "code",
   "execution_count": null,
   "id": "8cc96bd1",
   "metadata": {},
   "outputs": [],
   "source": [
    "assults = pd.read_csv('assults.csv')\n",
    "# print(assults.describe())"
   ]
  },
  {
   "cell_type": "markdown",
   "id": "bff32115",
   "metadata": {},
   "source": [
    "##### 1 - Hur många regioner finns med i data?"
   ]
  },
  {
   "cell_type": "code",
   "execution_count": null,
   "id": "0e8d3f8c",
   "metadata": {},
   "outputs": [],
   "source": [
    "# print(assults.columns)\n",
    "unique_region_labels = assults['Region_2013_label'].unique()\n",
    "# print(unique_region_labels)\n",
    "print(f'The total number of regions is: {len(unique_region_labels)}')"
   ]
  },
  {
   "cell_type": "markdown",
   "id": "c4fd9ff9",
   "metadata": {},
   "source": [
    "##### 2 - Lista regionerna i bokstavsordning"
   ]
  },
  {
   "cell_type": "code",
   "execution_count": null,
   "id": "58151361",
   "metadata": {},
   "outputs": [],
   "source": [
    "region_names = unique_region_labels.tolist()\n",
    "print(sorted(region_names))"
   ]
  },
  {
   "cell_type": "markdown",
   "id": "044f590e",
   "metadata": {},
   "source": [
    "##### 3 - Vad är invånarantalet i varje region"
   ]
  },
  {
   "cell_type": "code",
   "execution_count": null,
   "id": "1af086ff",
   "metadata": {},
   "outputs": [],
   "source": [
    "#assults.head(20)\n",
    "print('Population in mid point 2015:\\n')\n",
    "series_grouped = assults.groupby('Region_2013_label')['Population_mid_point_2015'].sum()\n",
    "series_grouped"
   ]
  },
  {
   "cell_type": "markdown",
   "id": "5181a1c6",
   "metadata": {},
   "source": [
    "##### 4 - Hur många brott begicks i varje region"
   ]
  },
  {
   "cell_type": "code",
   "execution_count": null,
   "id": "46c0ee49",
   "metadata": {},
   "outputs": [],
   "source": [
    "# assults.head(20)\n",
    "print('Total number of victims in 2015:\\n')\n",
    "series_grouped = assults.groupby('Region_2013_label')['Victimisations_calendar_year_2015'].sum()\n",
    "series_grouped"
   ]
  },
  {
   "cell_type": "markdown",
   "id": "b4245d16",
   "metadata": {},
   "source": [
    "##### 5 - Skapa en dataframe på de områden med de 10 högsta antalet överfall."
   ]
  },
  {
   "cell_type": "code",
   "execution_count": null,
   "id": "1165166c",
   "metadata": {},
   "outputs": [],
   "source": [
    "# assults.head()\n",
    "series_grouped = assults.groupby('Urban_area_2013_label')['Victimisations_calendar_year_2015'].sum()\n",
    "df_grouped = series_grouped.to_frame(name='Number_of_attacks').reset_index()\n",
    "df_grouped = df_grouped.sort_values(['Number_of_attacks'], ascending=False).groupby('Urban_area_2013_label').head(10).reset_index()\n",
    "df_grouped = df_grouped.head(10)\n",
    "df_grouped\n"
   ]
  },
  {
   "cell_type": "markdown",
   "id": "e894eab7",
   "metadata": {},
   "source": [
    "##### 6 - Lägg till en kolumn i dataframen som visar % antal överfall i området jämfört med invånarantal i området"
   ]
  },
  {
   "cell_type": "code",
   "execution_count": null,
   "id": "131f4da1",
   "metadata": {},
   "outputs": [],
   "source": [
    "#assults.head()\n",
    "def condition(x):\n",
    "    if x['Victimisations_calendar_year_2015'] != 0 and x['Population_mid_point_2015'] !=0:\n",
    "        return x['Victimisations_calendar_year_2015'] / x['Population_mid_point_2015'] * 100   \n",
    "    else:\n",
    "        return 0\n",
    "\n",
    "assults_copy = assults\n",
    "assults_copy['Procent_attacks_per_population'] = assults_copy.apply(condition, axis=1)\n",
    "assults_copy.head()"
   ]
  },
  {
   "cell_type": "markdown",
   "id": "0b5dafd0",
   "metadata": {},
   "source": [
    "##### 7 - Skapa en ny dataframe som innehåller antalet områden som finns av de olika typerna av urban area. Ledtråd: groupby"
   ]
  },
  {
   "cell_type": "code",
   "execution_count": null,
   "id": "dd6e8781",
   "metadata": {},
   "outputs": [],
   "source": [
    "# assults.head()\n",
    "series_grouped = assults.groupby('Urban_area_type').size()\n",
    "df_grouped = series_grouped.to_frame(name='Number_of_areas').reset_index()\n",
    "print(df_grouped)"
   ]
  },
  {
   "cell_type": "markdown",
   "id": "f3549f9e",
   "metadata": {},
   "source": [
    "##### 8 - Ta reda på hur många områden hade population men inga överfall. Jämför totala populationen i dessa med totala populationen i deras region."
   ]
  },
  {
   "cell_type": "code",
   "execution_count": null,
   "id": "9deddd20",
   "metadata": {},
   "outputs": [],
   "source": [
    "assults_copy = assults\n",
    "assults_copy = assults_copy[(assults_copy['Population_mid_point_2015'] > 0)]\n",
    "assults_copy = assults_copy[(assults_copy['Victimisations_calendar_year_2015'] == 0)].reset_index()\n",
    "len(assults_copy)"
   ]
  },
  {
   "cell_type": "code",
   "execution_count": null,
   "id": "a3bb8d00",
   "metadata": {},
   "outputs": [],
   "source": [
    "assults_copy = assults\n",
    "assults_copy = assults_copy[(assults_copy['Population_mid_point_2015'] > 0)]\n",
    "assults_copy = assults_copy[(assults_copy['Victimisations_calendar_year_2015'] == 0)].reset_index()\n",
    "assults_copy['total_by_region'] = assults_copy['Population_mid_point_2015'].groupby(assults_copy['Region_2013_label']).transform('sum')\n",
    "df_population_comparison = assults_copy[['Urban_area_2013_label','Population_mid_point_2015', 'Region_2013_label', 'total_by_region']]\n",
    "df_population_comparison"
   ]
  },
  {
   "cell_type": "markdown",
   "id": "07817c04",
   "metadata": {},
   "source": [
    "##### 9 - Räkna antalet områden som inte har någon data på överfall eller invånare."
   ]
  },
  {
   "cell_type": "code",
   "execution_count": null,
   "id": "c4aa833f",
   "metadata": {},
   "outputs": [],
   "source": [
    "assults_copy = assults\n",
    "assults_copy = assults_copy[(assults_copy['Population_mid_point_2015'] == 0) | (['Victimisations_calendar_year_2015'] == 0)]\n",
    "print(f'Antalet områden som inte har någon data på överfall eller invånare: {len(assults_copy)}')\n"
   ]
  },
  {
   "cell_type": "markdown",
   "id": "2f528d1f",
   "metadata": {},
   "source": [
    "##### 10 - VG: Skapa en ny dataframe med 10 områderna med mer än 5000 invånare, men har de lägsta överfallen per invånare."
   ]
  },
  {
   "cell_type": "markdown",
   "id": "519ded04",
   "metadata": {},
   "source": [
    "##### 11 - VG: Skapa en ny dataframe som innehåller % överfall i regionen jämfört med antalet invånare i regionen."
   ]
  },
  {
   "cell_type": "markdown",
   "id": "d1e1c383",
   "metadata": {},
   "source": [
    "##### 12 - VG: Lägg till en ny kolumn i dataframen som visar % antal överfall per region"
   ]
  },
  {
   "cell_type": "markdown",
   "id": "7978b987",
   "metadata": {},
   "source": [
    "### Part 3: Utforskning/analys"
   ]
  },
  {
   "cell_type": "markdown",
   "id": "bad825d6",
   "metadata": {},
   "source": [
    "Minst 500 rader, 5 Kolumner i ditt valda dataset"
   ]
  },
  {
   "cell_type": "markdown",
   "id": "0a51462f",
   "metadata": {},
   "source": [
    "#### Step 1: Välj dataset"
   ]
  },
  {
   "cell_type": "markdown",
   "id": "5f81000f",
   "metadata": {},
   "source": [
    "Hitta ett intressant dataset. Det valda datasettet måste vara i CSV format,  ha minst 500 rader och 5 kolumner. \n",
    "Ladda ner datasetet med pandas read_csv funktion och en url (se nedan). Alternativt i inlämningen skicka med datasettet."
   ]
  },
  {
   "cell_type": "code",
   "execution_count": null,
   "id": "46fad196",
   "metadata": {},
   "outputs": [],
   "source": [
    "url = 'https://raw.githubusercontent.com/cs109/2014_data/master/countries.csv'\n",
    "data = pd.read_csv(url)"
   ]
  },
  {
   "cell_type": "markdown",
   "id": "c23ca94e",
   "metadata": {},
   "source": [
    "#### Step 2: Data preparation och Cleaning"
   ]
  },
  {
   "cell_type": "markdown",
   "id": "6eb2ac97",
   "metadata": {},
   "source": [
    "Ladda in dataset in i en dataframe med pandas. \n",
    "Behandla missade data, icke-korrekt data och fel data.\n",
    "Gör andra steg som behövs (gör om sträng datum till riktiga datum, skapa fler kolumner, slå ihop datasets osv).\n",
    "Summera hur datasetet ser ut i nuvarande läge i dina markdowns. Storlek, kolumner, kategori typer (qualitative vs. quantitative), kvalitet på data, fång osv."
   ]
  },
  {
   "cell_type": "code",
   "execution_count": null,
   "id": "240b5910",
   "metadata": {},
   "outputs": [],
   "source": []
  },
  {
   "cell_type": "markdown",
   "id": "ae409b44",
   "metadata": {},
   "source": [
    "#### Step 3: Undersökande analys och visualisering"
   ]
  },
  {
   "cell_type": "markdown",
   "id": "0d010da4",
   "metadata": {},
   "source": [
    "Undersök data genom analysera (mean, sum, range osv)  intressant statistik i numeriska kolumnerna.\n",
    "Undersök distributions av numeriska kolumner genom histogram osv\n",
    "Undersök relationen mellan kolumner med scatter plots, bar chars osv.\n",
    "Notera intressanta upptäckter i din markdown."
   ]
  },
  {
   "cell_type": "code",
   "execution_count": null,
   "id": "f52789c0",
   "metadata": {},
   "outputs": [],
   "source": []
  },
  {
   "cell_type": "markdown",
   "id": "db5e7b92",
   "metadata": {},
   "source": [
    "#### Step 4: För VG - fråga och svara på 4 intressanta frågor om datan"
   ]
  },
  {
   "cell_type": "code",
   "execution_count": null,
   "id": "561e8f3e",
   "metadata": {},
   "outputs": [],
   "source": []
  },
  {
   "cell_type": "markdown",
   "id": "b1dadef7",
   "metadata": {},
   "source": [
    "#### Step 5: Summera dina slutsatser & Skriv ett avslut."
   ]
  },
  {
   "cell_type": "code",
   "execution_count": null,
   "id": "ad3521ff",
   "metadata": {},
   "outputs": [],
   "source": []
  }
 ],
 "metadata": {
  "kernelspec": {
   "display_name": "Python 3.10.6 64-bit",
   "language": "python",
   "name": "python3"
  },
  "language_info": {
   "codemirror_mode": {
    "name": "ipython",
    "version": 3
   },
   "file_extension": ".py",
   "mimetype": "text/x-python",
   "name": "python",
   "nbconvert_exporter": "python",
   "pygments_lexer": "ipython3",
   "version": "3.10.6"
  },
  "vscode": {
   "interpreter": {
    "hash": "916dbcbb3f70747c44a77c7bcd40155683ae19c65e1c03b4aa3499c5328201f1"
   }
  }
 },
 "nbformat": 4,
 "nbformat_minor": 5
}
