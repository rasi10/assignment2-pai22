{
 "cells": [
  {
   "cell_type": "markdown",
   "id": "d9bb2704",
   "metadata": {},
   "source": [
    "# Inlämning 2: Numpy, Pandas och Analys"
   ]
  },
  {
   "cell_type": "markdown",
   "id": "0925e475",
   "metadata": {},
   "source": [
    "### Part 1: Numpy"
   ]
  },
  {
   "cell_type": "code",
   "execution_count": 94,
   "id": "3d6e6fd5",
   "metadata": {},
   "outputs": [],
   "source": [
    "import numpy as np\n",
    "np.set_printoptions(precision=4, suppress=True)"
   ]
  },
  {
   "cell_type": "markdown",
   "id": "0750ad1a",
   "metadata": {},
   "source": [
    "Konstruera en array med 10 kolumner och 5 rader av float-tal. Inget tal får vara samma."
   ]
  },
  {
   "cell_type": "code",
   "execution_count": 95,
   "id": "b42574f7",
   "metadata": {},
   "outputs": [
    {
     "name": "stdout",
     "output_type": "stream",
     "text": [
      "[[-0.0665 -0.5496 -1.1417  0.4805  0.6961 -0.986   1.2317  0.7997 -0.6458\n",
      "  -0.0767]\n",
      " [-0.3007  1.4283  0.2297 -0.7057 -0.0135 -0.7161  1.1202 -0.6132  0.8562\n",
      "   0.8858]\n",
      " [-0.6429  0.3634 -0.3429  0.8895 -2.7259 -0.4941  1.3848 -0.2747  1.3156\n",
      "   0.1955]\n",
      " [-0.7405  1.8126 -0.1455  0.3053  0.6859 -1.1252  1.0617 -0.1045  0.5534\n",
      "   0.1175]\n",
      " [-1.2781 -1.1834 -1.9604  0.1004  0.2012 -0.815   0.8062  1.0162 -0.5733\n",
      "   1.2464]]\n",
      "float64\n"
     ]
    }
   ],
   "source": [
    "first_array = np.random.normal(size=(5, 10))\n",
    "\n",
    "print(first_array)\n",
    "print(first_array.dtype)"
   ]
  },
  {
   "cell_type": "markdown",
   "id": "181fd018",
   "metadata": {},
   "source": [
    "Konstruera en ny array till med 10 kolumner och 7 rader av float-tal. Den skall inte vara samma som ovan array.."
   ]
  },
  {
   "cell_type": "code",
   "execution_count": 96,
   "id": "0bed980d",
   "metadata": {},
   "outputs": [
    {
     "name": "stdout",
     "output_type": "stream",
     "text": [
      "[[ 1.2495 -1.286   1.5343  1.9211 -0.0483  1.3025  1.4859  0.0435 -0.6179\n",
      "   1.1917]\n",
      " [ 2.1232 -0.3088 -0.9616 -0.8796  0.8695 -0.379  -1.0362  0.179   0.0431\n",
      "  -2.5949]\n",
      " [ 1.2366 -0.5971 -0.1366 -2.2703 -0.2796  0.2856 -0.4027 -0.5865 -0.3353\n",
      "   1.3346]\n",
      " [-0.4378 -0.7518  1.4264 -1.8497 -0.3829  0.9832 -0.9724  1.052  -1.3239\n",
      "   0.6371]\n",
      " [-1.5124 -0.8172  0.1707 -0.341   0.0546 -0.5442 -0.057   1.4326  1.258\n",
      "   1.1272]\n",
      " [-0.3006  1.853   0.3346  1.1716  1.0663 -0.5646 -1.2079 -1.045   1.2922\n",
      "  -0.1179]\n",
      " [ 1.0881 -1.0125 -0.7663 -0.4981 -0.7864  0.9923  0.8291  1.9148  0.3624\n",
      "  -1.1774]]\n",
      "float64\n"
     ]
    }
   ],
   "source": [
    "second_array = np.random.randn(7, 10)\n",
    "\n",
    "print(second_array)\n",
    "print(second_array.dtype)"
   ]
  },
  {
   "cell_type": "markdown",
   "id": "04524bf4",
   "metadata": {},
   "source": [
    "Gör om de ovan arrayerna så att de har 5 kolumner men innehåller samma data."
   ]
  },
  {
   "cell_type": "code",
   "execution_count": 97,
   "id": "04c745bc",
   "metadata": {},
   "outputs": [
    {
     "name": "stdout",
     "output_type": "stream",
     "text": [
      "[[-0.0665 -0.5496 -1.1417  0.4805  0.6961 -0.986   1.2317  0.7997 -0.6458\n",
      "  -0.0767]\n",
      " [-0.3007  1.4283  0.2297 -0.7057 -0.0135 -0.7161  1.1202 -0.6132  0.8562\n",
      "   0.8858]\n",
      " [-0.6429  0.3634 -0.3429  0.8895 -2.7259 -0.4941  1.3848 -0.2747  1.3156\n",
      "   0.1955]\n",
      " [-0.7405  1.8126 -0.1455  0.3053  0.6859 -1.1252  1.0617 -0.1045  0.5534\n",
      "   0.1175]\n",
      " [-1.2781 -1.1834 -1.9604  0.1004  0.2012 -0.815   0.8062  1.0162 -0.5733\n",
      "   1.2464]]\n",
      "[[ 1.2495 -1.286   1.5343  1.9211 -0.0483  1.3025  1.4859  0.0435 -0.6179\n",
      "   1.1917]\n",
      " [ 2.1232 -0.3088 -0.9616 -0.8796  0.8695 -0.379  -1.0362  0.179   0.0431\n",
      "  -2.5949]\n",
      " [ 1.2366 -0.5971 -0.1366 -2.2703 -0.2796  0.2856 -0.4027 -0.5865 -0.3353\n",
      "   1.3346]\n",
      " [-0.4378 -0.7518  1.4264 -1.8497 -0.3829  0.9832 -0.9724  1.052  -1.3239\n",
      "   0.6371]\n",
      " [-1.5124 -0.8172  0.1707 -0.341   0.0546 -0.5442 -0.057   1.4326  1.258\n",
      "   1.1272]\n",
      " [-0.3006  1.853   0.3346  1.1716  1.0663 -0.5646 -1.2079 -1.045   1.2922\n",
      "  -0.1179]\n",
      " [ 1.0881 -1.0125 -0.7663 -0.4981 -0.7864  0.9923  0.8291  1.9148  0.3624\n",
      "  -1.1774]]\n",
      "[[-0.0665 -0.5496 -1.1417  0.4805  0.6961]\n",
      " [-0.3007  1.4283  0.2297 -0.7057 -0.0135]\n",
      " [-0.6429  0.3634 -0.3429  0.8895 -2.7259]\n",
      " [-0.7405  1.8126 -0.1455  0.3053  0.6859]\n",
      " [-1.2781 -1.1834 -1.9604  0.1004  0.2012]]\n",
      "[[ 1.2495 -1.286   1.5343  1.9211 -0.0483]\n",
      " [ 2.1232 -0.3088 -0.9616 -0.8796  0.8695]\n",
      " [ 1.2366 -0.5971 -0.1366 -2.2703 -0.2796]\n",
      " [-0.4378 -0.7518  1.4264 -1.8497 -0.3829]\n",
      " [-1.5124 -0.8172  0.1707 -0.341   0.0546]\n",
      " [-0.3006  1.853   0.3346  1.1716  1.0663]\n",
      " [ 1.0881 -1.0125 -0.7663 -0.4981 -0.7864]]\n"
     ]
    }
   ],
   "source": [
    "print(first_array)\n",
    "print(second_array)\n",
    "first_array = np.delete(first_array, slice(5, 10), axis=1)\n",
    "second_array = np.delete(second_array, slice(5, 10), axis=1)\n",
    "print(first_array)\n",
    "print(second_array)"
   ]
  },
  {
   "cell_type": "markdown",
   "id": "27063978",
   "metadata": {},
   "source": [
    "Slå ihop de bägge arrayerna till en array."
   ]
  },
  {
   "cell_type": "code",
   "execution_count": 98,
   "id": "4361b865",
   "metadata": {},
   "outputs": [
    {
     "name": "stdout",
     "output_type": "stream",
     "text": [
      "[[-0.0665 -0.5496 -1.1417  0.4805  0.6961]\n",
      " [-0.3007  1.4283  0.2297 -0.7057 -0.0135]\n",
      " [-0.6429  0.3634 -0.3429  0.8895 -2.7259]\n",
      " [-0.7405  1.8126 -0.1455  0.3053  0.6859]\n",
      " [-1.2781 -1.1834 -1.9604  0.1004  0.2012]\n",
      " [ 1.2495 -1.286   1.5343  1.9211 -0.0483]\n",
      " [ 2.1232 -0.3088 -0.9616 -0.8796  0.8695]\n",
      " [ 1.2366 -0.5971 -0.1366 -2.2703 -0.2796]\n",
      " [-0.4378 -0.7518  1.4264 -1.8497 -0.3829]\n",
      " [-1.5124 -0.8172  0.1707 -0.341   0.0546]\n",
      " [-0.3006  1.853   0.3346  1.1716  1.0663]\n",
      " [ 1.0881 -1.0125 -0.7663 -0.4981 -0.7864]]\n"
     ]
    }
   ],
   "source": [
    "result_array = np.concatenate((first_array, second_array), axis=0)\n",
    "print(result_array)"
   ]
  },
  {
   "cell_type": "markdown",
   "id": "d698b3a8",
   "metadata": {},
   "source": [
    "Ändra ordningen på kolumnerna så att de har ordningen kolumn5, kolumn3, kolumn4, kolumn1 och kolumn2."
   ]
  },
  {
   "cell_type": "code",
   "execution_count": 99,
   "id": "7871f863",
   "metadata": {},
   "outputs": [
    {
     "name": "stdout",
     "output_type": "stream",
     "text": [
      "[[ 0.6961 -1.1417  0.4805 -0.0665 -0.5496]\n",
      " [-0.0135  0.2297 -0.7057 -0.3007  1.4283]\n",
      " [-2.7259 -0.3429  0.8895 -0.6429  0.3634]\n",
      " [ 0.6859 -0.1455  0.3053 -0.7405  1.8126]\n",
      " [ 0.2012 -1.9604  0.1004 -1.2781 -1.1834]\n",
      " [-0.0483  1.5343  1.9211  1.2495 -1.286 ]\n",
      " [ 0.8695 -0.9616 -0.8796  2.1232 -0.3088]\n",
      " [-0.2796 -0.1366 -2.2703  1.2366 -0.5971]\n",
      " [-0.3829  1.4264 -1.8497 -0.4378 -0.7518]\n",
      " [ 0.0546  0.1707 -0.341  -1.5124 -0.8172]\n",
      " [ 1.0663  0.3346  1.1716 -0.3006  1.853 ]\n",
      " [-0.7864 -0.7663 -0.4981  1.0881 -1.0125]]\n"
     ]
    }
   ],
   "source": [
    "out = result_array[:, [4, 2, 3, 0, 1]]\n",
    "print(out)"
   ]
  },
  {
   "cell_type": "markdown",
   "id": "031a7184",
   "metadata": {},
   "source": [
    "### Part 2: Pandas"
   ]
  },
  {
   "cell_type": "code",
   "execution_count": 100,
   "id": "bc32132a",
   "metadata": {},
   "outputs": [],
   "source": [
    "import pandas as pd"
   ]
  },
  {
   "cell_type": "code",
   "execution_count": 101,
   "id": "8cc96bd1",
   "metadata": {},
   "outputs": [],
   "source": [
    "assults = pd.read_csv('assults.csv')\n",
    "# print(assults.describe())"
   ]
  },
  {
   "cell_type": "markdown",
   "id": "bff32115",
   "metadata": {},
   "source": [
    "##### 1 - Hur många regioner finns med i data?"
   ]
  },
  {
   "cell_type": "code",
   "execution_count": 102,
   "id": "0e8d3f8c",
   "metadata": {},
   "outputs": [
    {
     "name": "stdout",
     "output_type": "stream",
     "text": [
      "The total number of regions is: 17\n"
     ]
    }
   ],
   "source": [
    "# print(assults.columns)\n",
    "unique_region_labels = assults['Region_2013_label'].unique()\n",
    "# print(unique_region_labels)\n",
    "print(f'The total number of regions is: {len(unique_region_labels)}')"
   ]
  },
  {
   "cell_type": "markdown",
   "id": "c4fd9ff9",
   "metadata": {},
   "source": [
    "##### 2 - Lista regionerna i bokstavsordning"
   ]
  },
  {
   "cell_type": "code",
   "execution_count": 103,
   "id": "58151361",
   "metadata": {},
   "outputs": [
    {
     "name": "stdout",
     "output_type": "stream",
     "text": [
      "['Area Outside Region', 'Auckland Region', 'Bay of Plenty Region', 'Canterbury Region', 'Gisborne Region', \"Hawke's Bay Region\", 'Manawatu-Wanganui Region', 'Marlborough Region', 'Nelson Region', 'Northland Region', 'Otago Region', 'Southland Region', 'Taranaki Region', 'Tasman Region', 'Waikato Region', 'Wellington Region', 'West Coast Region']\n"
     ]
    }
   ],
   "source": [
    "region_names = unique_region_labels.tolist()\n",
    "print(sorted(region_names))"
   ]
  },
  {
   "cell_type": "markdown",
   "id": "044f590e",
   "metadata": {},
   "source": [
    "##### 3 - Vad är invånarantalet i varje region"
   ]
  },
  {
   "cell_type": "code",
   "execution_count": 104,
   "id": "1af086ff",
   "metadata": {},
   "outputs": [
    {
     "name": "stdout",
     "output_type": "stream",
     "text": [
      "Population in mid point 2015:\n",
      "\n"
     ]
    },
    {
     "data": {
      "text/plain": [
       "Region_2013_label\n",
       "Area Outside Region             610\n",
       "Auckland Region             1569890\n",
       "Bay of Plenty Region         287130\n",
       "Canterbury Region            586310\n",
       "Gisborne Region               47370\n",
       "Hawke's Bay Region           160010\n",
       "Manawatu-Wanganui Region     234460\n",
       "Marlborough Region            45340\n",
       "Nelson Region                 49940\n",
       "Northland Region             168320\n",
       "Otago Region                 215030\n",
       "Southland Region              97190\n",
       "Taranaki Region              115760\n",
       "Tasman Region                 49500\n",
       "Waikato Region               439000\n",
       "Wellington Region            496890\n",
       "West Coast Region             32700\n",
       "Name: Population_mid_point_2015, dtype: int64"
      ]
     },
     "execution_count": 104,
     "metadata": {},
     "output_type": "execute_result"
    }
   ],
   "source": [
    "#assults.head(20)\n",
    "print('Population in mid point 2015:\\n')\n",
    "series_grouped = assults.groupby('Region_2013_label')['Population_mid_point_2015'].sum()\n",
    "series_grouped"
   ]
  },
  {
   "cell_type": "markdown",
   "id": "5181a1c6",
   "metadata": {},
   "source": [
    "##### 4 - Hur många brott begicks i varje region"
   ]
  },
  {
   "cell_type": "code",
   "execution_count": 105,
   "id": "46c0ee49",
   "metadata": {},
   "outputs": [
    {
     "name": "stdout",
     "output_type": "stream",
     "text": [
      "Total number of victims in 2015:\n",
      "\n"
     ]
    },
    {
     "data": {
      "text/plain": [
       "Region_2013_label\n",
       "Area Outside Region            0\n",
       "Auckland Region             8010\n",
       "Bay of Plenty Region        1751\n",
       "Canterbury Region           2942\n",
       "Gisborne Region              436\n",
       "Hawke's Bay Region          1068\n",
       "Manawatu-Wanganui Region    1270\n",
       "Marlborough Region           209\n",
       "Nelson Region                357\n",
       "Northland Region             905\n",
       "Otago Region                1142\n",
       "Southland Region             381\n",
       "Taranaki Region              493\n",
       "Tasman Region                161\n",
       "Waikato Region              2330\n",
       "Wellington Region           2459\n",
       "West Coast Region            121\n",
       "Name: Victimisations_calendar_year_2015, dtype: int64"
      ]
     },
     "execution_count": 105,
     "metadata": {},
     "output_type": "execute_result"
    }
   ],
   "source": [
    "# assults.head(20)\n",
    "print('Total number of victims in 2015:\\n')\n",
    "series_grouped = assults.groupby('Region_2013_label')['Victimisations_calendar_year_2015'].sum()\n",
    "series_grouped"
   ]
  },
  {
   "cell_type": "markdown",
   "id": "b4245d16",
   "metadata": {},
   "source": [
    "##### 5 - Skapa en dataframe på de områden med de 10 högsta antalet överfall."
   ]
  },
  {
   "cell_type": "code",
   "execution_count": 106,
   "id": "1165166c",
   "metadata": {},
   "outputs": [
    {
     "data": {
      "text/html": [
       "<div>\n",
       "<style scoped>\n",
       "    .dataframe tbody tr th:only-of-type {\n",
       "        vertical-align: middle;\n",
       "    }\n",
       "\n",
       "    .dataframe tbody tr th {\n",
       "        vertical-align: top;\n",
       "    }\n",
       "\n",
       "    .dataframe thead th {\n",
       "        text-align: right;\n",
       "    }\n",
       "</style>\n",
       "<table border=\"1\" class=\"dataframe\">\n",
       "  <thead>\n",
       "    <tr style=\"text-align: right;\">\n",
       "      <th></th>\n",
       "      <th>index</th>\n",
       "      <th>Urban_area_2013_label</th>\n",
       "      <th>Number_of_attacks</th>\n",
       "    </tr>\n",
       "  </thead>\n",
       "  <tbody>\n",
       "    <tr>\n",
       "      <th>0</th>\n",
       "      <td>11</td>\n",
       "      <td>Central Auckland Zone</td>\n",
       "      <td>3286</td>\n",
       "    </tr>\n",
       "    <tr>\n",
       "      <th>1</th>\n",
       "      <td>102</td>\n",
       "      <td>Southern Auckland Zone</td>\n",
       "      <td>2770</td>\n",
       "    </tr>\n",
       "    <tr>\n",
       "      <th>2</th>\n",
       "      <td>12</td>\n",
       "      <td>Christchurch</td>\n",
       "      <td>2348</td>\n",
       "    </tr>\n",
       "    <tr>\n",
       "      <th>3</th>\n",
       "      <td>29</td>\n",
       "      <td>Hamilton Zone</td>\n",
       "      <td>1196</td>\n",
       "    </tr>\n",
       "    <tr>\n",
       "      <th>4</th>\n",
       "      <td>98</td>\n",
       "      <td>Rural (Incl.some Off Shore Islands)</td>\n",
       "      <td>1056</td>\n",
       "    </tr>\n",
       "    <tr>\n",
       "      <th>5</th>\n",
       "      <td>139</td>\n",
       "      <td>Wellington Zone</td>\n",
       "      <td>1019</td>\n",
       "    </tr>\n",
       "    <tr>\n",
       "      <th>6</th>\n",
       "      <td>141</td>\n",
       "      <td>Western Auckland Zone</td>\n",
       "      <td>900</td>\n",
       "    </tr>\n",
       "    <tr>\n",
       "      <th>7</th>\n",
       "      <td>110</td>\n",
       "      <td>Tauranga</td>\n",
       "      <td>693</td>\n",
       "    </tr>\n",
       "    <tr>\n",
       "      <th>8</th>\n",
       "      <td>18</td>\n",
       "      <td>Dunedin</td>\n",
       "      <td>657</td>\n",
       "    </tr>\n",
       "    <tr>\n",
       "      <th>9</th>\n",
       "      <td>69</td>\n",
       "      <td>Northern Auckland Zone</td>\n",
       "      <td>635</td>\n",
       "    </tr>\n",
       "  </tbody>\n",
       "</table>\n",
       "</div>"
      ],
      "text/plain": [
       "   index                Urban_area_2013_label  Number_of_attacks\n",
       "0     11                Central Auckland Zone               3286\n",
       "1    102               Southern Auckland Zone               2770\n",
       "2     12                         Christchurch               2348\n",
       "3     29                        Hamilton Zone               1196\n",
       "4     98  Rural (Incl.some Off Shore Islands)               1056\n",
       "5    139                      Wellington Zone               1019\n",
       "6    141                Western Auckland Zone                900\n",
       "7    110                             Tauranga                693\n",
       "8     18                              Dunedin                657\n",
       "9     69               Northern Auckland Zone                635"
      ]
     },
     "execution_count": 106,
     "metadata": {},
     "output_type": "execute_result"
    }
   ],
   "source": [
    "# assults.head()\n",
    "series_grouped = assults.groupby('Urban_area_2013_label')['Victimisations_calendar_year_2015'].sum()\n",
    "df_grouped = series_grouped.to_frame(name='Number_of_attacks').reset_index()\n",
    "df_grouped = df_grouped.sort_values(['Number_of_attacks'], ascending=False).groupby('Urban_area_2013_label').head(10).reset_index()\n",
    "df_grouped = df_grouped.head(10)\n",
    "df_grouped\n"
   ]
  },
  {
   "cell_type": "markdown",
   "id": "e894eab7",
   "metadata": {},
   "source": [
    "##### 6 - Lägg till en kolumn i dataframen som visar % antal överfall i området jämfört med invånarantal i området"
   ]
  },
  {
   "cell_type": "code",
   "execution_count": 107,
   "id": "131f4da1",
   "metadata": {},
   "outputs": [
    {
     "data": {
      "text/html": [
       "<div>\n",
       "<style scoped>\n",
       "    .dataframe tbody tr th:only-of-type {\n",
       "        vertical-align: middle;\n",
       "    }\n",
       "\n",
       "    .dataframe tbody tr th {\n",
       "        vertical-align: top;\n",
       "    }\n",
       "\n",
       "    .dataframe thead th {\n",
       "        text-align: right;\n",
       "    }\n",
       "</style>\n",
       "<table border=\"1\" class=\"dataframe\">\n",
       "  <thead>\n",
       "    <tr style=\"text-align: right;\">\n",
       "      <th></th>\n",
       "      <th>Index</th>\n",
       "      <th>Area_unit_2013_code</th>\n",
       "      <th>Area_unit_2013_label</th>\n",
       "      <th>Victimisations_calendar_year_2015</th>\n",
       "      <th>Population_mid_point_2015</th>\n",
       "      <th>Rate_per_10000_population</th>\n",
       "      <th>Rate_ratio_NZ_average_rate</th>\n",
       "      <th>Urban_area_2013_code</th>\n",
       "      <th>Urban_area_2013_label</th>\n",
       "      <th>Urban_area_type</th>\n",
       "      <th>Territorial_authority_area_2013_code</th>\n",
       "      <th>Territorial_authority_area_2013_label</th>\n",
       "      <th>Region_2013_code</th>\n",
       "      <th>Region_2013_label</th>\n",
       "      <th>Procent_attacks_per_population</th>\n",
       "    </tr>\n",
       "  </thead>\n",
       "  <tbody>\n",
       "    <tr>\n",
       "      <th>0</th>\n",
       "      <td>1</td>\n",
       "      <td>514102</td>\n",
       "      <td>Auckland Central West</td>\n",
       "      <td>550</td>\n",
       "      <td>15900</td>\n",
       "      <td>346</td>\n",
       "      <td>6.6</td>\n",
       "      <td>4</td>\n",
       "      <td>Central Auckland Zone</td>\n",
       "      <td>Main urban area</td>\n",
       "      <td>76</td>\n",
       "      <td>Auckland</td>\n",
       "      <td>2</td>\n",
       "      <td>Auckland Region</td>\n",
       "      <td>3.459119</td>\n",
       "    </tr>\n",
       "    <tr>\n",
       "      <th>1</th>\n",
       "      <td>2</td>\n",
       "      <td>573101</td>\n",
       "      <td>Willis Street-Cambridge Terrace</td>\n",
       "      <td>447</td>\n",
       "      <td>8300</td>\n",
       "      <td>539</td>\n",
       "      <td>10.3</td>\n",
       "      <td>20</td>\n",
       "      <td>Wellington Zone</td>\n",
       "      <td>Main urban area</td>\n",
       "      <td>47</td>\n",
       "      <td>Wellington City</td>\n",
       "      <td>9</td>\n",
       "      <td>Wellington Region</td>\n",
       "      <td>5.385542</td>\n",
       "    </tr>\n",
       "    <tr>\n",
       "      <th>2</th>\n",
       "      <td>3</td>\n",
       "      <td>529700</td>\n",
       "      <td>Hamilton Central</td>\n",
       "      <td>380</td>\n",
       "      <td>3170</td>\n",
       "      <td>1,199</td>\n",
       "      <td>22.9</td>\n",
       "      <td>6</td>\n",
       "      <td>Hamilton Zone</td>\n",
       "      <td>Main urban area</td>\n",
       "      <td>16</td>\n",
       "      <td>Hamilton City</td>\n",
       "      <td>3</td>\n",
       "      <td>Waikato Region</td>\n",
       "      <td>11.987382</td>\n",
       "    </tr>\n",
       "    <tr>\n",
       "      <th>3</th>\n",
       "      <td>4</td>\n",
       "      <td>514103</td>\n",
       "      <td>Auckland Central East</td>\n",
       "      <td>375</td>\n",
       "      <td>13250</td>\n",
       "      <td>283</td>\n",
       "      <td>5.4</td>\n",
       "      <td>4</td>\n",
       "      <td>Central Auckland Zone</td>\n",
       "      <td>Main urban area</td>\n",
       "      <td>76</td>\n",
       "      <td>Auckland</td>\n",
       "      <td>2</td>\n",
       "      <td>Auckland Region</td>\n",
       "      <td>2.830189</td>\n",
       "    </tr>\n",
       "    <tr>\n",
       "      <th>4</th>\n",
       "      <td>5</td>\n",
       "      <td>591500</td>\n",
       "      <td>Cathedral Square</td>\n",
       "      <td>305</td>\n",
       "      <td>570</td>\n",
       "      <td>5,351</td>\n",
       "      <td>102.3</td>\n",
       "      <td>22</td>\n",
       "      <td>Christchurch</td>\n",
       "      <td>Main urban area</td>\n",
       "      <td>60</td>\n",
       "      <td>Christchurch City</td>\n",
       "      <td>13</td>\n",
       "      <td>Canterbury Region</td>\n",
       "      <td>53.508772</td>\n",
       "    </tr>\n",
       "  </tbody>\n",
       "</table>\n",
       "</div>"
      ],
      "text/plain": [
       "   Index  Area_unit_2013_code             Area_unit_2013_label  \\\n",
       "0      1               514102            Auckland Central West   \n",
       "1      2               573101  Willis Street-Cambridge Terrace   \n",
       "2      3               529700                 Hamilton Central   \n",
       "3      4               514103            Auckland Central East   \n",
       "4      5               591500                 Cathedral Square   \n",
       "\n",
       "   Victimisations_calendar_year_2015  Population_mid_point_2015  \\\n",
       "0                                550                      15900   \n",
       "1                                447                       8300   \n",
       "2                                380                       3170   \n",
       "3                                375                      13250   \n",
       "4                                305                        570   \n",
       "\n",
       "   Rate_per_10000_population   Rate_ratio_NZ_average_rate   \\\n",
       "0                         346                          6.6   \n",
       "1                         539                         10.3   \n",
       "2                       1,199                         22.9   \n",
       "3                         283                          5.4   \n",
       "4                       5,351                        102.3   \n",
       "\n",
       "   Urban_area_2013_code  Urban_area_2013_label  Urban_area_type  \\\n",
       "0                     4  Central Auckland Zone  Main urban area   \n",
       "1                    20        Wellington Zone  Main urban area   \n",
       "2                     6          Hamilton Zone  Main urban area   \n",
       "3                     4  Central Auckland Zone  Main urban area   \n",
       "4                    22           Christchurch  Main urban area   \n",
       "\n",
       "   Territorial_authority_area_2013_code Territorial_authority_area_2013_label  \\\n",
       "0                                    76                              Auckland   \n",
       "1                                    47                       Wellington City   \n",
       "2                                    16                         Hamilton City   \n",
       "3                                    76                              Auckland   \n",
       "4                                    60                     Christchurch City   \n",
       "\n",
       "   Region_2013_code  Region_2013_label  Procent_attacks_per_population  \n",
       "0                 2    Auckland Region                        3.459119  \n",
       "1                 9  Wellington Region                        5.385542  \n",
       "2                 3     Waikato Region                       11.987382  \n",
       "3                 2    Auckland Region                        2.830189  \n",
       "4                13  Canterbury Region                       53.508772  "
      ]
     },
     "execution_count": 107,
     "metadata": {},
     "output_type": "execute_result"
    }
   ],
   "source": [
    "#assults.head()\n",
    "def condition(x):\n",
    "    if x['Victimisations_calendar_year_2015'] != 0 and x['Population_mid_point_2015'] !=0:\n",
    "        return x['Victimisations_calendar_year_2015'] / x['Population_mid_point_2015'] * 100   \n",
    "    else:\n",
    "        return 0\n",
    "\n",
    "assults_copy = assults\n",
    "assults_copy['Procent_attacks_per_population'] = assults_copy.apply(condition, axis=1)\n",
    "assults_copy.head()"
   ]
  },
  {
   "cell_type": "markdown",
   "id": "0b5dafd0",
   "metadata": {},
   "source": [
    "##### 7 - Skapa en ny dataframe som innehåller antalet områden som finns av de olika typerna av urban area. Ledtråd: groupby"
   ]
  },
  {
   "cell_type": "code",
   "execution_count": 108,
   "id": "dd6e8781",
   "metadata": {},
   "outputs": [
    {
     "name": "stdout",
     "output_type": "stream",
     "text": [
      "        Urban_area_type  Number_of_areas\n",
      "0       Main urban area             1112\n",
      "1      Minor urban area              137\n",
      "2            Rural area              640\n",
      "3  Secondary urban area              131\n"
     ]
    }
   ],
   "source": [
    "# assults.head()\n",
    "series_grouped = assults.groupby('Urban_area_type').size()\n",
    "df_grouped = series_grouped.to_frame(name='Number_of_areas').reset_index()\n",
    "print(df_grouped)"
   ]
  },
  {
   "cell_type": "markdown",
   "id": "f3549f9e",
   "metadata": {},
   "source": [
    "##### 8 - Ta reda på hur många områden hade population men inga överfall. Jämför totala populationen i dessa med totala populationen i deras region."
   ]
  },
  {
   "cell_type": "code",
   "execution_count": 109,
   "id": "9deddd20",
   "metadata": {},
   "outputs": [
    {
     "data": {
      "text/plain": [
       "291"
      ]
     },
     "execution_count": 109,
     "metadata": {},
     "output_type": "execute_result"
    }
   ],
   "source": [
    "assults_copy = assults\n",
    "assults_copy = assults_copy[(assults_copy['Population_mid_point_2015'] > 0)]\n",
    "assults_copy = assults_copy[(assults_copy['Victimisations_calendar_year_2015'] == 0)].reset_index()\n",
    "len(assults_copy)"
   ]
  },
  {
   "cell_type": "code",
   "execution_count": 124,
   "id": "a3bb8d00",
   "metadata": {},
   "outputs": [
    {
     "data": {
      "text/html": [
       "<div>\n",
       "<style scoped>\n",
       "    .dataframe tbody tr th:only-of-type {\n",
       "        vertical-align: middle;\n",
       "    }\n",
       "\n",
       "    .dataframe tbody tr th {\n",
       "        vertical-align: top;\n",
       "    }\n",
       "\n",
       "    .dataframe thead th {\n",
       "        text-align: right;\n",
       "    }\n",
       "</style>\n",
       "<table border=\"1\" class=\"dataframe\">\n",
       "  <thead>\n",
       "    <tr style=\"text-align: right;\">\n",
       "      <th></th>\n",
       "      <th>Urban_area_2013_label</th>\n",
       "      <th>Population_mid_point_2015</th>\n",
       "      <th>Region_2013_label</th>\n",
       "      <th>total_by_region</th>\n",
       "    </tr>\n",
       "  </thead>\n",
       "  <tbody>\n",
       "    <tr>\n",
       "      <th>0</th>\n",
       "      <td>Inlet-in TA but not in Urban Area</td>\n",
       "      <td>10</td>\n",
       "      <td>Southland Region</td>\n",
       "      <td>14060</td>\n",
       "    </tr>\n",
       "    <tr>\n",
       "      <th>1</th>\n",
       "      <td>Inlet-in TA but not in Urban Area</td>\n",
       "      <td>10</td>\n",
       "      <td>Tasman Region</td>\n",
       "      <td>1020</td>\n",
       "    </tr>\n",
       "    <tr>\n",
       "      <th>2</th>\n",
       "      <td>Inlet-in TA but not in Urban Area</td>\n",
       "      <td>10</td>\n",
       "      <td>Otago Region</td>\n",
       "      <td>17290</td>\n",
       "    </tr>\n",
       "    <tr>\n",
       "      <th>3</th>\n",
       "      <td>Inlet-in TA but not in Urban Area</td>\n",
       "      <td>10</td>\n",
       "      <td>Waikato Region</td>\n",
       "      <td>18780</td>\n",
       "    </tr>\n",
       "    <tr>\n",
       "      <th>4</th>\n",
       "      <td>Rural (Incl.some Off Shore Islands)</td>\n",
       "      <td>10</td>\n",
       "      <td>Southland Region</td>\n",
       "      <td>14060</td>\n",
       "    </tr>\n",
       "    <tr>\n",
       "      <th>...</th>\n",
       "      <td>...</td>\n",
       "      <td>...</td>\n",
       "      <td>...</td>\n",
       "      <td>...</td>\n",
       "    </tr>\n",
       "    <tr>\n",
       "      <th>286</th>\n",
       "      <td>Rural (Incl.some Off Shore Islands)</td>\n",
       "      <td>3510</td>\n",
       "      <td>Auckland Region</td>\n",
       "      <td>32520</td>\n",
       "    </tr>\n",
       "    <tr>\n",
       "      <th>287</th>\n",
       "      <td>Invercargill</td>\n",
       "      <td>3590</td>\n",
       "      <td>Southland Region</td>\n",
       "      <td>14060</td>\n",
       "    </tr>\n",
       "    <tr>\n",
       "      <th>288</th>\n",
       "      <td>Tauranga</td>\n",
       "      <td>3590</td>\n",
       "      <td>Bay of Plenty Region</td>\n",
       "      <td>6380</td>\n",
       "    </tr>\n",
       "    <tr>\n",
       "      <th>289</th>\n",
       "      <td>Wellington Zone</td>\n",
       "      <td>4020</td>\n",
       "      <td>Wellington Region</td>\n",
       "      <td>36110</td>\n",
       "    </tr>\n",
       "    <tr>\n",
       "      <th>290</th>\n",
       "      <td>Hamilton Zone</td>\n",
       "      <td>5440</td>\n",
       "      <td>Waikato Region</td>\n",
       "      <td>18780</td>\n",
       "    </tr>\n",
       "  </tbody>\n",
       "</table>\n",
       "<p>291 rows × 4 columns</p>\n",
       "</div>"
      ],
      "text/plain": [
       "                   Urban_area_2013_label  Population_mid_point_2015  \\\n",
       "0      Inlet-in TA but not in Urban Area                         10   \n",
       "1      Inlet-in TA but not in Urban Area                         10   \n",
       "2      Inlet-in TA but not in Urban Area                         10   \n",
       "3      Inlet-in TA but not in Urban Area                         10   \n",
       "4    Rural (Incl.some Off Shore Islands)                         10   \n",
       "..                                   ...                        ...   \n",
       "286  Rural (Incl.some Off Shore Islands)                       3510   \n",
       "287                         Invercargill                       3590   \n",
       "288                             Tauranga                       3590   \n",
       "289                      Wellington Zone                       4020   \n",
       "290                        Hamilton Zone                       5440   \n",
       "\n",
       "        Region_2013_label  total_by_region  \n",
       "0        Southland Region            14060  \n",
       "1           Tasman Region             1020  \n",
       "2            Otago Region            17290  \n",
       "3          Waikato Region            18780  \n",
       "4        Southland Region            14060  \n",
       "..                    ...              ...  \n",
       "286       Auckland Region            32520  \n",
       "287      Southland Region            14060  \n",
       "288  Bay of Plenty Region             6380  \n",
       "289     Wellington Region            36110  \n",
       "290        Waikato Region            18780  \n",
       "\n",
       "[291 rows x 4 columns]"
      ]
     },
     "execution_count": 124,
     "metadata": {},
     "output_type": "execute_result"
    }
   ],
   "source": [
    "assults_copy = assults\n",
    "assults_copy = assults_copy[(assults_copy['Population_mid_point_2015'] > 0)]\n",
    "assults_copy = assults_copy[(assults_copy['Victimisations_calendar_year_2015'] == 0)].reset_index()\n",
    "assults_copy['total_by_region'] = assults_copy['Population_mid_point_2015'].groupby(assults_copy['Region_2013_label']).transform('sum')\n",
    "df_population_comparison = assults_copy[['Urban_area_2013_label','Population_mid_point_2015', 'Region_2013_label', 'total_by_region']]\n",
    "df_population_comparison"
   ]
  },
  {
   "cell_type": "markdown",
   "id": "07817c04",
   "metadata": {},
   "source": [
    "##### 9 - Räkna antalet områden som inte har någon data på överfall eller invånare."
   ]
  },
  {
   "cell_type": "code",
   "execution_count": 111,
   "id": "c4aa833f",
   "metadata": {},
   "outputs": [
    {
     "name": "stdout",
     "output_type": "stream",
     "text": [
      "Antalet områden som inte har någon data på överfall eller invånare: 126\n"
     ]
    }
   ],
   "source": [
    "assults_copy = assults\n",
    "assults_copy = assults_copy[(assults_copy['Population_mid_point_2015'] == 0) | (['Victimisations_calendar_year_2015'] == 0)]\n",
    "print(f'Antalet områden som inte har någon data på överfall eller invånare: {len(assults_copy)}')\n"
   ]
  },
  {
   "cell_type": "markdown",
   "id": "2f528d1f",
   "metadata": {},
   "source": [
    "##### 10 - VG: Skapa en ny dataframe med 10 områderna med mer än 5000 invånare, men har de lägsta överfallen per invånare."
   ]
  },
  {
   "cell_type": "markdown",
   "id": "519ded04",
   "metadata": {},
   "source": [
    "##### 11 - VG: Skapa en ny dataframe som innehåller % överfall i regionen jämfört med antalet invånare i regionen."
   ]
  },
  {
   "cell_type": "markdown",
   "id": "d1e1c383",
   "metadata": {},
   "source": [
    "##### 12 - VG: Lägg till en ny kolumn i dataframen som visar % antal överfall per region"
   ]
  },
  {
   "cell_type": "markdown",
   "id": "7978b987",
   "metadata": {},
   "source": [
    "### Part 3: Utforskning/analys"
   ]
  },
  {
   "cell_type": "markdown",
   "id": "bad825d6",
   "metadata": {},
   "source": [
    "Minst 500 rader, 5 Kolumner i ditt valda dataset"
   ]
  },
  {
   "cell_type": "markdown",
   "id": "0a51462f",
   "metadata": {},
   "source": [
    "#### Step 1: Välj dataset"
   ]
  },
  {
   "cell_type": "markdown",
   "id": "5f81000f",
   "metadata": {},
   "source": [
    "Hitta ett intressant dataset. Det valda datasettet måste vara i CSV format,  ha minst 500 rader och 5 kolumner. \n",
    "Ladda ner datasetet med pandas read_csv funktion och en url (se nedan). Alternativt i inlämningen skicka med datasettet."
   ]
  },
  {
   "cell_type": "code",
   "execution_count": 112,
   "id": "46fad196",
   "metadata": {},
   "outputs": [],
   "source": [
    "url = 'https://raw.githubusercontent.com/cs109/2014_data/master/countries.csv'\n",
    "data = pd.read_csv(url)"
   ]
  },
  {
   "cell_type": "markdown",
   "id": "c23ca94e",
   "metadata": {},
   "source": [
    "#### Step 2: Data preparation och Cleaning"
   ]
  },
  {
   "cell_type": "markdown",
   "id": "6eb2ac97",
   "metadata": {},
   "source": [
    "Ladda in dataset in i en dataframe med pandas. \n",
    "Behandla missade data, icke-korrekt data och fel data.\n",
    "Gör andra steg som behövs (gör om sträng datum till riktiga datum, skapa fler kolumner, slå ihop datasets osv).\n",
    "Summera hur datasetet ser ut i nuvarande läge i dina markdowns. Storlek, kolumner, kategori typer (qualitative vs. quantitative), kvalitet på data, fång osv."
   ]
  },
  {
   "cell_type": "code",
   "execution_count": null,
   "id": "240b5910",
   "metadata": {},
   "outputs": [],
   "source": []
  },
  {
   "cell_type": "markdown",
   "id": "ae409b44",
   "metadata": {},
   "source": [
    "#### Step 3: Undersökande analys och visualisering"
   ]
  },
  {
   "cell_type": "markdown",
   "id": "0d010da4",
   "metadata": {},
   "source": [
    "Undersök data genom analysera (mean, sum, range osv)  intressant statistik i numeriska kolumnerna.\n",
    "Undersök distributions av numeriska kolumner genom histogram osv\n",
    "Undersök relationen mellan kolumner med scatter plots, bar chars osv.\n",
    "Notera intressanta upptäckter i din markdown."
   ]
  },
  {
   "cell_type": "code",
   "execution_count": null,
   "id": "f52789c0",
   "metadata": {},
   "outputs": [],
   "source": []
  },
  {
   "cell_type": "markdown",
   "id": "db5e7b92",
   "metadata": {},
   "source": [
    "#### Step 4: För VG - fråga och svara på 4 intressanta frågor om datan"
   ]
  },
  {
   "cell_type": "code",
   "execution_count": null,
   "id": "561e8f3e",
   "metadata": {},
   "outputs": [],
   "source": []
  },
  {
   "cell_type": "markdown",
   "id": "b1dadef7",
   "metadata": {},
   "source": [
    "#### Step 5: Summera dina slutsatser & Skriv ett avslut."
   ]
  },
  {
   "cell_type": "code",
   "execution_count": null,
   "id": "ad3521ff",
   "metadata": {},
   "outputs": [],
   "source": []
  }
 ],
 "metadata": {
  "kernelspec": {
   "display_name": "Python 3.10.6 64-bit",
   "language": "python",
   "name": "python3"
  },
  "language_info": {
   "codemirror_mode": {
    "name": "ipython",
    "version": 3
   },
   "file_extension": ".py",
   "mimetype": "text/x-python",
   "name": "python",
   "nbconvert_exporter": "python",
   "pygments_lexer": "ipython3",
   "version": "3.10.6"
  },
  "vscode": {
   "interpreter": {
    "hash": "916dbcbb3f70747c44a77c7bcd40155683ae19c65e1c03b4aa3499c5328201f1"
   }
  }
 },
 "nbformat": 4,
 "nbformat_minor": 5
}
